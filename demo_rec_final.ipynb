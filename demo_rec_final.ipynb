{
  "cells": [
    {
      "cell_type": "markdown",
      "metadata": {
        "id": "RQdbGljDJ0YM"
      },
      "source": [
        "#GRU"
      ]
    },
    {
      "cell_type": "markdown",
      "metadata": {
        "id": "MHcealQUJ41O"
      },
      "source": [
        "#steup"
      ]
    },
    {
      "cell_type": "code",
      "execution_count": 1,
      "metadata": {
        "id": "xNXdDbKQumj8"
      },
      "outputs": [],
      "source": [
        "import os\n",
        "import cv2\n",
        "import numpy as np\n",
        "import string\n",
        "import time\n",
        "import pandas as pd\n",
        "import tensorflow as tf\n",
        "import matplotlib.pyplot as plt\n",
        "\n",
        "import tensorflow.keras.backend as K\n",
        "from tensorflow.keras.preprocessing.sequence import pad_sequences\n",
        "#from tensorflow.keras.utils import multi_gpu_model\n",
        "from tensorflow.keras.layers import Dense, Reshape, BatchNormalization, Input, Conv2D, MaxPool2D, Lambda, Bidirectional\n",
        "\n",
        "from tensorflow.compat.v1.keras.layers import CuDNNLSTM\n",
        "from tensorflow.compat.v1.keras.layers import CuDNNGRU\n",
        "from tensorflow.keras.models import Model\n",
        "from tensorflow.keras.activations import relu, sigmoid, softmax\n",
        "\n",
        "from tensorflow.keras.utils import to_categorical, Sequence\n",
        "from tensorflow.keras.callbacks import ModelCheckpoint\n",
        "from tqdm import tqdm\n",
        "from collections import Counter\n",
        "\n",
        "from PIL import Image"
      ]
    },
    {
      "cell_type": "code",
      "execution_count": 2,
      "metadata": {
        "id": "Jw2lerzNvb1W"
      },
      "outputs": [],
      "source": [
        "import pickle\n",
        "final_paths = pickle.load( open( \"./data/image_path.p\", \"rb\" ) )\n",
        "final_texts = pickle.load( open( \"./data/image_text.p\", \"rb\" ) )"
      ]
    },
    {
      "cell_type": "code",
      "execution_count": 3,
      "metadata": {
        "colab": {
          "base_uri": "https://localhost:8080/"
        },
        "id": "LE1dVpiSvlZd",
        "outputId": "d69ea9d9-5095-4f6a-d2f3-7857b310b9c5"
      },
      "outputs": [
        {
          "output_type": "execute_result",
          "data": {
            "text/plain": [
              "(['words/mjsynth_sample/mjsynth_sample/36_Espoused_26563.jpg',\n",
              "  'words/mjsynth_sample/mjsynth_sample/34_cloudbursts_14341.jpg',\n",
              "  'words/mjsynth_sample/mjsynth_sample/35_Lubrication_45495.jpg',\n",
              "  'words/mjsynth_sample/mjsynth_sample/33_PAVAROTTI_56019.jpg',\n",
              "  'words/mjsynth_sample/mjsynth_sample/32_ASPIRANTS_4311.jpg',\n",
              "  'words/mjsynth_sample/mjsynth_sample/30_electroplate_25005.jpg',\n",
              "  'words/mjsynth_sample/mjsynth_sample/31_slanderer_71483.jpg',\n",
              "  'words/mjsynth_sample/mjsynth_sample/29_oceanfronts_53003.jpg',\n",
              "  'words/mjsynth_sample/mjsynth_sample/27_Pus_61444.jpg',\n",
              "  'words/mjsynth_sample/mjsynth_sample/26_Pupa_61305.jpg'],\n",
              " ['Espoused',\n",
              "  'cloudbursts',\n",
              "  'Lubrication',\n",
              "  'PAVAROTTI',\n",
              "  'ASPIRANTS',\n",
              "  'electroplate',\n",
              "  'slanderer',\n",
              "  'oceanfronts',\n",
              "  'Pus',\n",
              "  'Pupa'])"
            ]
          },
          "metadata": {},
          "execution_count": 3
        }
      ],
      "source": [
        "final_paths[:10], final_texts[:10]"
      ]
    },
    {
      "cell_type": "code",
      "execution_count": 4,
      "metadata": {
        "id": "tsyTEj1e0fUA"
      },
      "outputs": [],
      "source": [
        "final_paths=final_paths[:50000]\n",
        "final_texts=final_texts[:50000]"
      ]
    },
    {
      "cell_type": "code",
      "execution_count": 5,
      "metadata": {
        "id": "awBPRO-ywase"
      },
      "outputs": [],
      "source": [
        "#del final_paths[25926]\n",
        "#del final_texts[25926]"
      ]
    },
    {
      "cell_type": "code",
      "execution_count": 6,
      "metadata": {
        "colab": {
          "base_uri": "https://localhost:8080/"
        },
        "id": "fB6TL3AfvoWT",
        "outputId": "bf390bb0-09c4-4709-df32-d5b86d7317bd"
      },
      "outputs": [
        {
          "output_type": "stream",
          "name": "stdout",
          "text": [
            "['0', '1', '2', '3', '4', '5', '6', '7', '8', '9', 'A', 'B', 'C', 'D', 'E', 'F', 'G', 'H', 'I', 'J', 'K', 'L', 'M', 'N', 'O', 'P', 'Q', 'R', 'S', 'T', 'U', 'V', 'W', 'X', 'Y', 'Z', 'a', 'b', 'c', 'd', 'e', 'f', 'g', 'h', 'i', 'j', 'k', 'l', 'm', 'n', 'o', 'p', 'q', 'r', 's', 't', 'u', 'v', 'w', 'x', 'y', 'z']\n"
          ]
        }
      ],
      "source": [
        "### get vocab from dataset\n",
        "vocab = set(\"\".join(map(str, final_texts)))\n",
        "print(sorted(vocab))"
      ]
    },
    {
      "cell_type": "code",
      "execution_count": 7,
      "metadata": {
        "colab": {
          "base_uri": "https://localhost:8080/"
        },
        "id": "rr0Y38HewHsv",
        "outputId": "b56b9c74-0ab5-469c-9f45-e234ef41a448"
      },
      "outputs": [
        {
          "output_type": "execute_result",
          "data": {
            "text/plain": [
              "Counter({'0': 37,\n",
              "         '1': 52,\n",
              "         '2': 26,\n",
              "         '3': 21,\n",
              "         '4': 25,\n",
              "         '5': 13,\n",
              "         '6': 16,\n",
              "         '7': 12,\n",
              "         '8': 15,\n",
              "         '9': 10,\n",
              "         'A': 11556,\n",
              "         'B': 3684,\n",
              "         'C': 6814,\n",
              "         'D': 6050,\n",
              "         'E': 15856,\n",
              "         'F': 2641,\n",
              "         'G': 4542,\n",
              "         'H': 3733,\n",
              "         'I': 12009,\n",
              "         'J': 494,\n",
              "         'K': 1521,\n",
              "         'L': 7589,\n",
              "         'M': 4488,\n",
              "         'N': 9654,\n",
              "         'O': 8338,\n",
              "         'P': 4899,\n",
              "         'Q': 329,\n",
              "         'R': 10523,\n",
              "         'S': 13333,\n",
              "         'T': 9501,\n",
              "         'U': 4731,\n",
              "         'V': 1694,\n",
              "         'W': 1717,\n",
              "         'X': 406,\n",
              "         'Y': 2159,\n",
              "         'Z': 663,\n",
              "         'a': 20506,\n",
              "         'b': 4495,\n",
              "         'c': 9476,\n",
              "         'd': 9245,\n",
              "         'e': 30352,\n",
              "         'f': 3104,\n",
              "         'g': 7947,\n",
              "         'h': 5767,\n",
              "         'i': 23038,\n",
              "         'j': 432,\n",
              "         'k': 2634,\n",
              "         'l': 13977,\n",
              "         'm': 6588,\n",
              "         'n': 19178,\n",
              "         'o': 16434,\n",
              "         'p': 6576,\n",
              "         'q': 419,\n",
              "         'r': 18940,\n",
              "         's': 21977,\n",
              "         't': 17358,\n",
              "         'u': 8769,\n",
              "         'v': 2591,\n",
              "         'w': 2135,\n",
              "         'x': 784,\n",
              "         'y': 4425,\n",
              "         'z': 1268})"
            ]
          },
          "metadata": {},
          "execution_count": 7
        }
      ],
      "source": [
        "Counter(\"\".join(map(str, final_texts)))\n"
      ]
    },
    {
      "cell_type": "code",
      "execution_count": 8,
      "metadata": {
        "id": "-b28L7wnwJOi"
      },
      "outputs": [],
      "source": [
        "char_list = sorted(vocab)\n",
        "\n",
        "def encode_to_labels(txt):\n",
        "    # encoding each output word into digits\n",
        "    dig_lst = []\n",
        "    \n",
        "    for index, char in enumerate(txt):\n",
        "        try:\n",
        "            dig_lst.append(char_list.index(char))\n",
        "        except:\n",
        "            print(char)\n",
        "        \n",
        "    return dig_lst"
      ]
    },
    {
      "cell_type": "code",
      "execution_count": 9,
      "metadata": {
        "colab": {
          "base_uri": "https://localhost:8080/"
        },
        "id": "w60JV5eKwMKj",
        "outputId": "f6364646-c018-433e-ddee-05da5d9d6dcf"
      },
      "outputs": [
        {
          "output_type": "execute_result",
          "data": {
            "text/plain": [
              "[17, 14, 21, 21, 24]"
            ]
          },
          "metadata": {},
          "execution_count": 9
        }
      ],
      "source": [
        "encode_to_labels(\"HELLO\")\n"
      ]
    },
    {
      "cell_type": "code",
      "execution_count": 10,
      "metadata": {
        "id": "yaQ5aFPSHkwZ"
      },
      "outputs": [],
      "source": [
        "import pickle\n",
        "val_image_paths  = pickle.load( open( \"./data/val_image_path.p\", \"rb\" ) )\n",
        "val_image_texts = pickle.load( open( \"./data/val_image_text.p\", \"rb\" ) )"
      ]
    },
    {
      "cell_type": "code",
      "execution_count": 11,
      "metadata": {
        "id": "nhaThEwBFTRW"
      },
      "outputs": [],
      "source": [
        "val_final_paths = val_image_paths[int(len(val_image_paths) * 0.90) : ]\n",
        "val_final_texts = val_image_texts[int(len(val_image_texts) * 0.90) : ]"
      ]
    },
    {
      "cell_type": "code",
      "execution_count": 12,
      "metadata": {
        "id": "LaJIj_hIwO-_"
      },
      "outputs": [],
      "source": [
        "train_final_paths = final_paths[ : int(len(final_paths) * 0.90)]\n",
        "train_final_texts = final_texts[ : int(len(final_texts) * 0.90)]\n",
        "#val_final_paths = final_paths[ : int(len(final_paths) * 0.90)]\n",
        "#val_final_texts= final_texts[ : int(len(final_texts) * 0.90)]\n"
      ]
    },
    {
      "cell_type": "code",
      "execution_count": 13,
      "metadata": {
        "id": "P3UpCE8cIRwB",
        "colab": {
          "base_uri": "https://localhost:8080/"
        },
        "outputId": "19a44451-d965-4e63-ffa8-3731169e03e5"
      },
      "outputs": [
        {
          "output_type": "execute_result",
          "data": {
            "text/plain": [
              "['words/mjsynth_sample/mjsynth_sample/36_Espoused_26563.jpg',\n",
              " 'words/mjsynth_sample/mjsynth_sample/34_cloudbursts_14341.jpg',\n",
              " 'words/mjsynth_sample/mjsynth_sample/35_Lubrication_45495.jpg',\n",
              " 'words/mjsynth_sample/mjsynth_sample/33_PAVAROTTI_56019.jpg',\n",
              " 'words/mjsynth_sample/mjsynth_sample/32_ASPIRANTS_4311.jpg',\n",
              " 'words/mjsynth_sample/mjsynth_sample/30_electroplate_25005.jpg',\n",
              " 'words/mjsynth_sample/mjsynth_sample/31_slanderer_71483.jpg',\n",
              " 'words/mjsynth_sample/mjsynth_sample/29_oceanfronts_53003.jpg',\n",
              " 'words/mjsynth_sample/mjsynth_sample/27_Pus_61444.jpg',\n",
              " 'words/mjsynth_sample/mjsynth_sample/26_Pupa_61305.jpg',\n",
              " 'words/mjsynth_sample/mjsynth_sample/25_Circularizing_13726.jpg',\n",
              " 'words/mjsynth_sample/mjsynth_sample/24_Humps_37345.jpg',\n",
              " 'words/mjsynth_sample/mjsynth_sample/23_creatives_17941.jpg',\n",
              " 'words/mjsynth_sample/mjsynth_sample/22_Schoolchildren_68345.jpg',\n",
              " 'words/mjsynth_sample/mjsynth_sample/21_reshaped_65134.jpg',\n",
              " 'words/mjsynth_sample/mjsynth_sample/20_answerphones_3059.jpg',\n",
              " 'words/mjsynth_sample/mjsynth_sample/19_Coriander_17014.jpg',\n",
              " 'words/mjsynth_sample/mjsynth_sample/18_Flossiest_29696.jpg',\n",
              " 'words/mjsynth_sample/mjsynth_sample/17_QUIXOTIC_61960.jpg',\n",
              " 'words/mjsynth_sample/mjsynth_sample/15_merited_47883.jpg',\n",
              " 'words/mjsynth_sample/mjsynth_sample/14_Claws_14023.jpg',\n",
              " 'words/mjsynth_sample/mjsynth_sample/478_UNRELIABLY_83078.jpg',\n",
              " 'words/mjsynth_sample/mjsynth_sample/477_Bust_10477.jpg',\n",
              " 'words/mjsynth_sample/mjsynth_sample/476_ISLETS_40943.jpg',\n",
              " 'words/mjsynth_sample/mjsynth_sample/475_Constructionists_16395.jpg',\n",
              " 'words/mjsynth_sample/mjsynth_sample/474_Sprouting_73815.jpg',\n",
              " 'words/mjsynth_sample/mjsynth_sample/473_BOROUGHS_8882.jpg',\n",
              " 'words/mjsynth_sample/mjsynth_sample/472_thunderbird_78924.jpg',\n",
              " 'words/mjsynth_sample/mjsynth_sample/471_critique_18166.jpg',\n",
              " 'words/mjsynth_sample/mjsynth_sample/470_electroshock_25012.jpg',\n",
              " 'words/mjsynth_sample/mjsynth_sample/469_STICKPIN_74670.jpg',\n",
              " 'words/mjsynth_sample/mjsynth_sample/468_Enfranchising_25766.jpg',\n",
              " 'words/mjsynth_sample/mjsynth_sample/467_gish_32570.jpg',\n",
              " 'words/mjsynth_sample/mjsynth_sample/466_Manorial_46560.jpg',\n",
              " 'words/mjsynth_sample/mjsynth_sample/465_Genre_32145.jpg',\n",
              " 'words/mjsynth_sample/mjsynth_sample/464_Obviates_52951.jpg',\n",
              " 'words/mjsynth_sample/mjsynth_sample/463_predesignating_59525.jpg',\n",
              " 'words/mjsynth_sample/mjsynth_sample/462_circumscribes_13759.jpg',\n",
              " 'words/mjsynth_sample/mjsynth_sample/461_electroplated_25006.jpg',\n",
              " 'words/mjsynth_sample/mjsynth_sample/460_Prejudging_59660.jpg',\n",
              " 'words/mjsynth_sample/mjsynth_sample/459_loyalties_45457.jpg',\n",
              " 'words/mjsynth_sample/mjsynth_sample/458_STAYER_74418.jpg',\n",
              " 'words/mjsynth_sample/mjsynth_sample/457_rachel_62046.jpg',\n",
              " 'words/mjsynth_sample/mjsynth_sample/456_recriminating_63382.jpg',\n",
              " 'words/mjsynth_sample/mjsynth_sample/455_showcased_70502.jpg',\n",
              " 'words/mjsynth_sample/mjsynth_sample/450_DECLENSION_19775.jpg',\n",
              " 'words/mjsynth_sample/mjsynth_sample/449_Renegaded_64624.jpg',\n",
              " 'words/mjsynth_sample/mjsynth_sample/448_manipulate_46519.jpg',\n",
              " 'words/mjsynth_sample/mjsynth_sample/447_Minimalism_48621.jpg',\n",
              " 'words/mjsynth_sample/mjsynth_sample/446_ROBESPIERRE_66388.jpg',\n",
              " 'words/mjsynth_sample/mjsynth_sample/445_Puzzled_61526.jpg',\n",
              " 'words/mjsynth_sample/mjsynth_sample/444_coffined_14720.jpg',\n",
              " 'words/mjsynth_sample/mjsynth_sample/443_autodidact_4972.jpg',\n",
              " 'words/mjsynth_sample/mjsynth_sample/442_Inlaid_39628.jpg',\n",
              " 'words/mjsynth_sample/mjsynth_sample/441_scandalizes_68106.jpg',\n",
              " 'words/mjsynth_sample/mjsynth_sample/440_apogee_3401.jpg',\n",
              " 'words/mjsynth_sample/mjsynth_sample/439_Wedging_85876.jpg',\n",
              " 'words/mjsynth_sample/mjsynth_sample/438_Jives_41591.jpg',\n",
              " 'words/mjsynth_sample/mjsynth_sample/437_MUSSING_50577.jpg',\n",
              " 'words/mjsynth_sample/mjsynth_sample/436_Abruptest_393.jpg',\n",
              " 'words/mjsynth_sample/mjsynth_sample/435_SPARERIBS_73089.jpg',\n",
              " 'words/mjsynth_sample/mjsynth_sample/434_SYNCHRONIZATION_76999.jpg',\n",
              " 'words/mjsynth_sample/mjsynth_sample/433_Roughest_66775.jpg',\n",
              " 'words/mjsynth_sample/mjsynth_sample/431_Gleans_32703.jpg',\n",
              " 'words/mjsynth_sample/mjsynth_sample/432_HELLBENT_35684.jpg',\n",
              " 'words/mjsynth_sample/mjsynth_sample/430_DEFIANTLY_20037.jpg',\n",
              " 'words/mjsynth_sample/mjsynth_sample/429_overcautious_54357.jpg',\n",
              " 'words/mjsynth_sample/mjsynth_sample/428_REILLY_64158.jpg',\n",
              " 'words/mjsynth_sample/mjsynth_sample/427_Chapati_12697.jpg',\n",
              " 'words/mjsynth_sample/mjsynth_sample/426_emanating_25204.jpg',\n",
              " 'words/mjsynth_sample/mjsynth_sample/425_Torquing_79751.jpg',\n",
              " 'words/mjsynth_sample/mjsynth_sample/424_SOLIDITY_72622.jpg',\n",
              " 'words/mjsynth_sample/mjsynth_sample/423_doz_23577.jpg',\n",
              " 'words/mjsynth_sample/mjsynth_sample/422_ANTIQUITY_3250.jpg',\n",
              " 'words/mjsynth_sample/mjsynth_sample/421_Sepulchral_69527.jpg',\n",
              " 'words/mjsynth_sample/mjsynth_sample/420_Segregationist_69188.jpg',\n",
              " 'words/mjsynth_sample/mjsynth_sample/419_CASELOAD_11823.jpg',\n",
              " 'words/mjsynth_sample/mjsynth_sample/418_Outlawed_54081.jpg',\n",
              " 'words/mjsynth_sample/mjsynth_sample/417_Abbrev_211.jpg',\n",
              " 'words/mjsynth_sample/mjsynth_sample/396_Ketches_42321.jpg',\n",
              " 'words/mjsynth_sample/mjsynth_sample/397_Energetically_25727.jpg',\n",
              " 'words/mjsynth_sample/mjsynth_sample/398_foxhunt_30555.jpg',\n",
              " 'words/mjsynth_sample/mjsynth_sample/416_bigot_7435.jpg',\n",
              " 'words/mjsynth_sample/mjsynth_sample/395_xenophobe_87534.jpg',\n",
              " 'words/mjsynth_sample/mjsynth_sample/394_MUDDIER_50193.jpg',\n",
              " 'words/mjsynth_sample/mjsynth_sample/393_Bulldoze_10108.jpg',\n",
              " 'words/mjsynth_sample/mjsynth_sample/392_oncoming_53374.jpg',\n",
              " 'words/mjsynth_sample/mjsynth_sample/391_intercom_40141.jpg',\n",
              " 'words/mjsynth_sample/mjsynth_sample/390_stonework_74894.jpg',\n",
              " 'words/mjsynth_sample/mjsynth_sample/388_SWOOSH_76889.jpg',\n",
              " 'words/mjsynth_sample/mjsynth_sample/389_REVISIONISM_65762.jpg',\n",
              " 'words/mjsynth_sample/mjsynth_sample/387_MATTE_47161.jpg',\n",
              " 'words/mjsynth_sample/mjsynth_sample/385_confraternity_15987.jpg',\n",
              " 'words/mjsynth_sample/mjsynth_sample/383_FINGERNAILS_28994.jpg',\n",
              " 'words/mjsynth_sample/mjsynth_sample/384_ASHLAR_4242.jpg',\n",
              " 'words/mjsynth_sample/mjsynth_sample/382_directorship_21857.jpg',\n",
              " 'words/mjsynth_sample/mjsynth_sample/381_SEMINARIANS_69328.jpg',\n",
              " 'words/mjsynth_sample/mjsynth_sample/380_platitude_58098.jpg',\n",
              " 'words/mjsynth_sample/mjsynth_sample/379_HOOPLA_36775.jpg',\n",
              " 'words/mjsynth_sample/mjsynth_sample/378_MESSIAHS_47968.jpg',\n",
              " 'words/mjsynth_sample/mjsynth_sample/377_DONKEY_23242.jpg',\n",
              " 'words/mjsynth_sample/mjsynth_sample/376_genoa_32138.jpg',\n",
              " 'words/mjsynth_sample/mjsynth_sample/375_ATTAINING_4681.jpg',\n",
              " 'words/mjsynth_sample/mjsynth_sample/374_Abnormal_314.jpg',\n",
              " 'words/mjsynth_sample/mjsynth_sample/373_Practical_59311.jpg',\n",
              " 'words/mjsynth_sample/mjsynth_sample/372_CHICO_13151.jpg',\n",
              " 'words/mjsynth_sample/mjsynth_sample/371_Sluggish_71857.jpg',\n",
              " 'words/mjsynth_sample/mjsynth_sample/370_chiseling_13315.jpg',\n",
              " 'words/mjsynth_sample/mjsynth_sample/369_Digit_21612.jpg',\n",
              " 'words/mjsynth_sample/mjsynth_sample/368_formatted_30370.jpg',\n",
              " 'words/mjsynth_sample/mjsynth_sample/367_DECED_19665.jpg',\n",
              " 'words/mjsynth_sample/mjsynth_sample/366_REPOSSESS_64871.jpg',\n",
              " 'words/mjsynth_sample/mjsynth_sample/365_Blackjacking_7805.jpg',\n",
              " 'words/mjsynth_sample/mjsynth_sample/364_BEGGARS_6704.jpg',\n",
              " 'words/mjsynth_sample/mjsynth_sample/363_Jerrod_41439.jpg',\n",
              " 'words/mjsynth_sample/mjsynth_sample/362_Conceive_15634.jpg',\n",
              " 'words/mjsynth_sample/mjsynth_sample/360_Imprudently_38528.jpg',\n",
              " 'words/mjsynth_sample/mjsynth_sample/361_embouchure_25302.jpg',\n",
              " 'words/mjsynth_sample/mjsynth_sample/359_UNHINGE_82602.jpg',\n",
              " 'words/mjsynth_sample/mjsynth_sample/348_baccy_5294.jpg',\n",
              " 'words/mjsynth_sample/mjsynth_sample/341_Bambi_5701.jpg',\n",
              " 'words/mjsynth_sample/mjsynth_sample/339_CLXIX_14440.jpg',\n",
              " 'words/mjsynth_sample/mjsynth_sample/338_MISPLACEMENT_48995.jpg',\n",
              " 'words/mjsynth_sample/mjsynth_sample/333_Rittenhouse_66259.jpg',\n",
              " 'words/mjsynth_sample/mjsynth_sample/329_NOWHERE_52468.jpg',\n",
              " 'words/mjsynth_sample/mjsynth_sample/328_RAMBUNCTIOUSLY_62298.jpg',\n",
              " 'words/mjsynth_sample/mjsynth_sample/327_Tips_79277.jpg',\n",
              " 'words/mjsynth_sample/mjsynth_sample/326_ratters_62585.jpg',\n",
              " 'words/mjsynth_sample/mjsynth_sample/325_Copybook_16943.jpg',\n",
              " 'words/mjsynth_sample/mjsynth_sample/324_TABLAS_77111.jpg',\n",
              " 'words/mjsynth_sample/mjsynth_sample/323_Cowherds_17648.jpg',\n",
              " 'words/mjsynth_sample/mjsynth_sample/321_CASTLING_11904.jpg',\n",
              " 'words/mjsynth_sample/mjsynth_sample/322_confronted_15994.jpg',\n",
              " 'words/mjsynth_sample/mjsynth_sample/320_Nonpersons_52094.jpg',\n",
              " 'words/mjsynth_sample/mjsynth_sample/319_rationale_62557.jpg',\n",
              " 'words/mjsynth_sample/mjsynth_sample/318_Virgule_84762.jpg',\n",
              " 'words/mjsynth_sample/mjsynth_sample/246_Manholes_46478.jpg',\n",
              " 'words/mjsynth_sample/mjsynth_sample/243_potpourri_59212.jpg',\n",
              " 'words/mjsynth_sample/mjsynth_sample/242_Geminis_32052.jpg',\n",
              " 'words/mjsynth_sample/mjsynth_sample/240_Amplitude_2586.jpg',\n",
              " 'words/mjsynth_sample/mjsynth_sample/239_EXTRACT_27643.jpg',\n",
              " 'words/mjsynth_sample/mjsynth_sample/238_BODYGUARDS_8474.jpg',\n",
              " 'words/mjsynth_sample/mjsynth_sample/237_WINDBREAK_86680.jpg',\n",
              " 'words/mjsynth_sample/mjsynth_sample/236_BRAWLER_9294.jpg',\n",
              " 'words/mjsynth_sample/mjsynth_sample/235_VESPERS_84431.jpg',\n",
              " 'words/mjsynth_sample/mjsynth_sample/234_BEARDED_6421.jpg',\n",
              " 'words/mjsynth_sample/mjsynth_sample/233_BUGGERS_10042.jpg',\n",
              " 'words/mjsynth_sample/mjsynth_sample/232_THIGHS_78655.jpg',\n",
              " 'words/mjsynth_sample/mjsynth_sample/231_prude_60930.jpg',\n",
              " 'words/mjsynth_sample/mjsynth_sample/230_Melodiousness_47659.jpg',\n",
              " 'words/mjsynth_sample/mjsynth_sample/229_LENGTHENS_44056.jpg',\n",
              " 'words/mjsynth_sample/mjsynth_sample/228_rwandas_67209.jpg',\n",
              " 'words/mjsynth_sample/mjsynth_sample/225_IGNEOUS_37888.jpg',\n",
              " 'words/mjsynth_sample/mjsynth_sample/226_Importunity_38405.jpg',\n",
              " 'words/mjsynth_sample/mjsynth_sample/222_MONOPOLISTIC_49612.jpg',\n",
              " 'words/mjsynth_sample/mjsynth_sample/221_upped_83542.jpg',\n",
              " 'words/mjsynth_sample/mjsynth_sample/220_BERLINER_7061.jpg',\n",
              " 'words/mjsynth_sample/mjsynth_sample/219_FEDERALS_28424.jpg',\n",
              " 'words/mjsynth_sample/mjsynth_sample/218_Barkeeper_5978.jpg',\n",
              " 'words/mjsynth_sample/mjsynth_sample/217_ONESOLUTION_53388.jpg',\n",
              " 'words/mjsynth_sample/mjsynth_sample/216_jesuit_41459.jpg',\n",
              " 'words/mjsynth_sample/mjsynth_sample/215_plating_58096.jpg',\n",
              " 'words/mjsynth_sample/mjsynth_sample/214_TIZZIES_79366.jpg',\n",
              " 'words/mjsynth_sample/mjsynth_sample/213_MOISTENERS_49363.jpg',\n",
              " 'words/mjsynth_sample/mjsynth_sample/210_Flavor_29453.jpg',\n",
              " 'words/mjsynth_sample/mjsynth_sample/209_mole_49401.jpg',\n",
              " 'words/mjsynth_sample/mjsynth_sample/208_PTO_61058.jpg',\n",
              " 'words/mjsynth_sample/mjsynth_sample/207_wellie_86005.jpg',\n",
              " 'words/mjsynth_sample/mjsynth_sample/206_COLESLAW_14841.jpg',\n",
              " 'words/mjsynth_sample/mjsynth_sample/204_translatable_80261.jpg',\n",
              " 'words/mjsynth_sample/mjsynth_sample/203_MISTRAL_49113.jpg',\n",
              " 'words/mjsynth_sample/mjsynth_sample/202_ostracized_53902.jpg',\n",
              " 'words/mjsynth_sample/mjsynth_sample/201_ALEMBIC_1930.jpg',\n",
              " 'words/mjsynth_sample/mjsynth_sample/200_thesis_78611.jpg',\n",
              " 'words/mjsynth_sample/mjsynth_sample/199_STORMIER_74957.jpg',\n",
              " 'words/mjsynth_sample/mjsynth_sample/180_TROUBLES_80858.jpg',\n",
              " 'words/mjsynth_sample/mjsynth_sample/179_CHOWDERS_13480.jpg',\n",
              " 'words/mjsynth_sample/mjsynth_sample/178_Retouching_65532.jpg',\n",
              " 'words/mjsynth_sample/mjsynth_sample/177_UNMARRIED_82871.jpg',\n",
              " 'words/mjsynth_sample/mjsynth_sample/176_commodes_15263.jpg',\n",
              " 'words/mjsynth_sample/mjsynth_sample/175_Weeding_85889.jpg',\n",
              " 'words/mjsynth_sample/mjsynth_sample/174_Bolster_8586.jpg',\n",
              " 'words/mjsynth_sample/mjsynth_sample/173_Caked_10794.jpg',\n",
              " 'words/mjsynth_sample/mjsynth_sample/172_slues_71849.jpg',\n",
              " 'words/mjsynth_sample/mjsynth_sample/171_BUDDY_9989.jpg',\n",
              " 'words/mjsynth_sample/mjsynth_sample/170_CAXTON_12206.jpg',\n",
              " 'words/mjsynth_sample/mjsynth_sample/169_pusher_61455.jpg',\n",
              " 'words/mjsynth_sample/mjsynth_sample/168_coda_14635.jpg',\n",
              " 'words/mjsynth_sample/mjsynth_sample/167_Qt_61594.jpg',\n",
              " 'words/mjsynth_sample/mjsynth_sample/166_besot_7148.jpg',\n",
              " 'words/mjsynth_sample/mjsynth_sample/165_Mussiest_50576.jpg',\n",
              " 'words/mjsynth_sample/mjsynth_sample/164_BILLOWIEST_7507.jpg',\n",
              " 'words/mjsynth_sample/mjsynth_sample/163_Blessedness_8005.jpg',\n",
              " 'words/mjsynth_sample/mjsynth_sample/160_UNTOUCHABLE_83359.jpg',\n",
              " 'words/mjsynth_sample/mjsynth_sample/159_Timurid_79185.jpg',\n",
              " 'words/mjsynth_sample/mjsynth_sample/158_RENOUNCE_64655.jpg',\n",
              " 'words/mjsynth_sample/mjsynth_sample/157_Castings_11899.jpg',\n",
              " 'words/mjsynth_sample/mjsynth_sample/156_Zoroastrianisms_88139.jpg',\n",
              " 'words/mjsynth_sample/mjsynth_sample/155_windowed_86713.jpg',\n",
              " 'words/mjsynth_sample/mjsynth_sample/154_Syndromes_77024.jpg',\n",
              " 'words/mjsynth_sample/mjsynth_sample/153_WATCHWORDS_85624.jpg',\n",
              " 'words/mjsynth_sample/mjsynth_sample/152_overattentive_54308.jpg',\n",
              " 'words/mjsynth_sample/mjsynth_sample/151_biopsied_7595.jpg',\n",
              " 'words/mjsynth_sample/mjsynth_sample/150_Millwright_48496.jpg',\n",
              " 'words/mjsynth_sample/mjsynth_sample/149_Revenge_65689.jpg',\n",
              " 'words/mjsynth_sample/mjsynth_sample/148_niamey_51541.jpg',\n",
              " 'words/mjsynth_sample/mjsynth_sample/147_reinvigorate_64249.jpg',\n",
              " 'words/mjsynth_sample/mjsynth_sample/146_peg_56315.jpg',\n",
              " 'words/mjsynth_sample/mjsynth_sample/145_SCREE_68627.jpg',\n",
              " 'words/mjsynth_sample/mjsynth_sample/144_chill_13206.jpg',\n",
              " 'words/mjsynth_sample/mjsynth_sample/142_reopens_64698.jpg',\n",
              " 'words/mjsynth_sample/mjsynth_sample/143_DENATURE_20569.jpg',\n",
              " 'words/mjsynth_sample/mjsynth_sample/141_Albigensian_1876.jpg',\n",
              " 'words/mjsynth_sample/mjsynth_sample/140_DEMOBILIZE_20451.jpg',\n",
              " 'words/mjsynth_sample/mjsynth_sample/139_Judders_41864.jpg',\n",
              " 'words/mjsynth_sample/mjsynth_sample/137_strikingly_75224.jpg',\n",
              " 'words/mjsynth_sample/mjsynth_sample/136_PADDLE_54963.jpg',\n",
              " 'words/mjsynth_sample/mjsynth_sample/138_Vilnius_84676.jpg',\n",
              " 'words/mjsynth_sample/mjsynth_sample/135_Unbreakable_81823.jpg',\n",
              " 'words/mjsynth_sample/mjsynth_sample/134_decoder_19788.jpg',\n",
              " 'words/mjsynth_sample/mjsynth_sample/132_CHOIRS_13390.jpg',\n",
              " 'words/mjsynth_sample/mjsynth_sample/133_NOSTALGICALLY_52339.jpg',\n",
              " 'words/mjsynth_sample/mjsynth_sample/131_TOXINS_79964.jpg',\n",
              " 'words/mjsynth_sample/mjsynth_sample/128_NATURALIZATION_51004.jpg',\n",
              " 'words/mjsynth_sample/mjsynth_sample/111_chw_13638.jpg',\n",
              " 'words/mjsynth_sample/mjsynth_sample/110_PREVARICATORS_59991.jpg',\n",
              " 'words/mjsynth_sample/mjsynth_sample/109_UNDERBID_82080.jpg',\n",
              " 'words/mjsynth_sample/mjsynth_sample/108_Hydrating_37518.jpg',\n",
              " 'words/mjsynth_sample/mjsynth_sample/107_LOLLIES_45135.jpg',\n",
              " 'words/mjsynth_sample/mjsynth_sample/106_toilets_79477.jpg',\n",
              " 'words/mjsynth_sample/mjsynth_sample/105_HAIRSPRING_34568.jpg',\n",
              " 'words/mjsynth_sample/mjsynth_sample/104_Omaha_53322.jpg',\n",
              " 'words/mjsynth_sample/mjsynth_sample/103_MOLEST_49410.jpg',\n",
              " 'words/mjsynth_sample/mjsynth_sample/102_Regrinding_64064.jpg',\n",
              " 'words/mjsynth_sample/mjsynth_sample/101_Helots_35722.jpg',\n",
              " 'words/mjsynth_sample/mjsynth_sample/100_DACTYLS_19005.jpg',\n",
              " 'words/mjsynth_sample/mjsynth_sample/99_Preordaining_59731.jpg',\n",
              " 'words/mjsynth_sample/mjsynth_sample/97_Cowman_17659.jpg',\n",
              " 'words/mjsynth_sample/mjsynth_sample/98_BEAUTIFY_6491.jpg',\n",
              " 'words/mjsynth_sample/mjsynth_sample/96_raunchily_62613.jpg',\n",
              " 'words/mjsynth_sample/mjsynth_sample/95_diamondbacks_21420.jpg',\n",
              " 'words/mjsynth_sample/mjsynth_sample/93_ricobene_66021.jpg',\n",
              " 'words/mjsynth_sample/mjsynth_sample/94_CLEARED_14056.jpg',\n",
              " 'words/mjsynth_sample/mjsynth_sample/92_MEGATONS_47589.jpg',\n",
              " 'words/mjsynth_sample/mjsynth_sample/91_Bimonthlies_7521.jpg',\n",
              " 'words/mjsynth_sample/mjsynth_sample/90_Unmanning_82866.jpg',\n",
              " 'words/mjsynth_sample/mjsynth_sample/89_smuttiest_72090.jpg',\n",
              " 'words/mjsynth_sample/mjsynth_sample/88_FUN_31240.jpg',\n",
              " 'words/mjsynth_sample/mjsynth_sample/87_HOBBLES_36371.jpg',\n",
              " 'words/mjsynth_sample/mjsynth_sample/86_affiliate_1408.jpg',\n",
              " 'words/mjsynth_sample/mjsynth_sample/85_Mountie_50072.jpg',\n",
              " 'words/mjsynth_sample/mjsynth_sample/84_GLOWER_32844.jpg',\n",
              " 'words/mjsynth_sample/mjsynth_sample/83_Frightful_30925.jpg',\n",
              " 'words/mjsynth_sample/mjsynth_sample/77_HES_35956.jpg',\n",
              " 'words/mjsynth_sample/mjsynth_sample/76_tintype_79252.jpg',\n",
              " 'words/mjsynth_sample/mjsynth_sample/74_Reinvigorates_64251.jpg',\n",
              " 'words/mjsynth_sample/mjsynth_sample/73_CARLYLE_11612.jpg',\n",
              " 'words/mjsynth_sample/mjsynth_sample/72_DEBARK_19523.jpg',\n",
              " 'words/mjsynth_sample/mjsynth_sample/71_GAUSS_31930.jpg',\n",
              " 'words/mjsynth_sample/mjsynth_sample/70_Motrin_50038.jpg',\n",
              " 'words/mjsynth_sample/mjsynth_sample/69_CALIFORNIAN_10880.jpg',\n",
              " 'words/mjsynth_sample/mjsynth_sample/68_foreground_30187.jpg',\n",
              " 'words/mjsynth_sample/mjsynth_sample/67_Bleed_7976.jpg',\n",
              " 'words/mjsynth_sample/mjsynth_sample/66_FEEDBAG_28444.jpg',\n",
              " 'words/mjsynth_sample/mjsynth_sample/65_Freaking_30714.jpg',\n",
              " 'words/mjsynth_sample/mjsynth_sample/64_lowdown_45421.jpg',\n",
              " 'words/mjsynth_sample/mjsynth_sample/63_mirthless_48752.jpg',\n",
              " 'words/mjsynth_sample/mjsynth_sample/62_Steroidal_74626.jpg',\n",
              " 'words/mjsynth_sample/mjsynth_sample/61_rheumatics_65915.jpg',\n",
              " 'words/mjsynth_sample/mjsynth_sample/60_CHESTY_13085.jpg',\n",
              " 'words/mjsynth_sample/mjsynth_sample/59_Unstably_83262.jpg',\n",
              " 'words/mjsynth_sample/mjsynth_sample/58_UNTASTED_83330.jpg',\n",
              " 'words/mjsynth_sample/mjsynth_sample/57_Countenancing_17410.jpg',\n",
              " 'words/mjsynth_sample/mjsynth_sample/56_Bustle_10485.jpg',\n",
              " 'words/mjsynth_sample/mjsynth_sample/52_Gumdrop_34222.jpg',\n",
              " 'words/mjsynth_sample/mjsynth_sample/40_spasmodically_73128.jpg',\n",
              " 'words/mjsynth_sample/mjsynth_sample/37_crucially_18342.jpg',\n",
              " 'words/mjsynth_sample/mjsynth_sample/36_howe_37126.jpg',\n",
              " 'words/mjsynth_sample/mjsynth_sample/35_bathmat_6235.jpg',\n",
              " 'words/mjsynth_sample/mjsynth_sample/34_penning_56442.jpg',\n",
              " 'words/mjsynth_sample/mjsynth_sample/33_glades_32620.jpg',\n",
              " 'words/mjsynth_sample/mjsynth_sample/32_Coarsely_14497.jpg',\n",
              " 'words/mjsynth_sample/mjsynth_sample/31_Coordinator_16882.jpg',\n",
              " 'words/mjsynth_sample/mjsynth_sample/30_whiteouts_86363.jpg',\n",
              " 'words/mjsynth_sample/mjsynth_sample/29_melva_47676.jpg',\n",
              " 'words/mjsynth_sample/mjsynth_sample/28_SHAY_70025.jpg',\n",
              " 'words/mjsynth_sample/mjsynth_sample/27_Regularizes_64082.jpg',\n",
              " 'words/mjsynth_sample/mjsynth_sample/26_Confectioneries_15867.jpg',\n",
              " 'words/mjsynth_sample/mjsynth_sample/25_Parodied_55619.jpg',\n",
              " 'words/mjsynth_sample/mjsynth_sample/24_Vulnerable_85139.jpg',\n",
              " 'words/mjsynth_sample/mjsynth_sample/23_musclemen_50490.jpg',\n",
              " 'words/mjsynth_sample/mjsynth_sample/22_clunkier_14417.jpg',\n",
              " 'words/mjsynth_sample/mjsynth_sample/21_Comfit_15128.jpg',\n",
              " 'words/mjsynth_sample/mjsynth_sample/19_Analog_2646.jpg',\n",
              " 'words/mjsynth_sample/mjsynth_sample/20_Casa_11798.jpg',\n",
              " 'words/mjsynth_sample/mjsynth_sample/18_CARBONIZES_11473.jpg',\n",
              " 'words/mjsynth_sample/mjsynth_sample/17_Proportionately_60654.jpg',\n",
              " 'words/mjsynth_sample/mjsynth_sample/15_rectifier_63416.jpg',\n",
              " 'words/mjsynth_sample/mjsynth_sample/16_aqueduct_3696.jpg',\n",
              " 'words/mjsynth_sample/mjsynth_sample/14_Songstresses_72740.jpg',\n",
              " 'words/mjsynth_sample/mjsynth_sample/13_RECORDS_63353.jpg',\n",
              " 'words/mjsynth_sample/mjsynth_sample/12_AMBIGUOUS_2390.jpg',\n",
              " 'words/mjsynth_sample/mjsynth_sample/11_Bathhouse_6232.jpg',\n",
              " 'words/mjsynth_sample/mjsynth_sample/10_maude_47200.jpg',\n",
              " 'words/mjsynth_sample/mjsynth_sample/9_besmirch_7142.jpg',\n",
              " 'words/mjsynth_sample/mjsynth_sample/8_candelas_11127.jpg',\n",
              " 'words/mjsynth_sample/mjsynth_sample/5_heartaches_35459.jpg',\n",
              " 'words/mjsynth_sample/mjsynth_sample/4_feverishness_28685.jpg',\n",
              " 'words/mjsynth_sample/mjsynth_sample/3_smokescreens_72030.jpg',\n",
              " 'words/mjsynth_sample/mjsynth_sample/2_SPOONBILL_73655.jpg',\n",
              " 'words/mjsynth_sample/mjsynth_sample/1_Chanteuses_12683.jpg',\n",
              " 'words/mjsynth_sample/mjsynth_sample/178_sweller_76776.jpg',\n",
              " 'words/mjsynth_sample/mjsynth_sample/177_studding_75366.jpg',\n",
              " 'words/mjsynth_sample/mjsynth_sample/176_chitchatting_13323.jpg',\n",
              " 'words/mjsynth_sample/mjsynth_sample/175_Realm_62808.jpg',\n",
              " 'words/mjsynth_sample/mjsynth_sample/174_Contemplated_16487.jpg',\n",
              " 'words/mjsynth_sample/mjsynth_sample/173_FORECASTS_30162.jpg',\n",
              " 'words/mjsynth_sample/mjsynth_sample/172_WILLOW_86630.jpg',\n",
              " 'words/mjsynth_sample/mjsynth_sample/171_rile_66137.jpg',\n",
              " 'words/mjsynth_sample/mjsynth_sample/170_FOOTNOTING_30075.jpg',\n",
              " 'words/mjsynth_sample/mjsynth_sample/169_interluded_40237.jpg',\n",
              " 'words/mjsynth_sample/mjsynth_sample/168_squired_74001.jpg',\n",
              " 'words/mjsynth_sample/mjsynth_sample/167_KOWLOON_42886.jpg',\n",
              " 'words/mjsynth_sample/mjsynth_sample/166_COLLAGES_14870.jpg',\n",
              " 'words/mjsynth_sample/mjsynth_sample/149_Bedazzlement_6537.jpg',\n",
              " 'words/mjsynth_sample/mjsynth_sample/148_Khrushchev_42390.jpg',\n",
              " 'words/mjsynth_sample/mjsynth_sample/147_nonfunctional_52022.jpg',\n",
              " 'words/mjsynth_sample/mjsynth_sample/146_LONGHORN_45181.jpg',\n",
              " 'words/mjsynth_sample/mjsynth_sample/145_barreled_6057.jpg',\n",
              " 'words/mjsynth_sample/mjsynth_sample/144_Processions_60262.jpg',\n",
              " 'words/mjsynth_sample/mjsynth_sample/143_hebert_35545.jpg',\n",
              " 'words/mjsynth_sample/mjsynth_sample/142_Laminar_43211.jpg',\n",
              " 'words/mjsynth_sample/mjsynth_sample/141_posse_59048.jpg',\n",
              " 'words/mjsynth_sample/mjsynth_sample/140_Quay_61764.jpg',\n",
              " 'words/mjsynth_sample/mjsynth_sample/139_quarterback_61725.jpg',\n",
              " 'words/mjsynth_sample/mjsynth_sample/138_advancements_1241.jpg',\n",
              " 'words/mjsynth_sample/mjsynth_sample/137_THRIFT_78820.jpg',\n",
              " 'words/mjsynth_sample/mjsynth_sample/136_Westlake_86075.jpg',\n",
              " 'words/mjsynth_sample/mjsynth_sample/135_FATIGUING_28261.jpg',\n",
              " 'words/mjsynth_sample/mjsynth_sample/134_breathalyzed_9401.jpg',\n",
              " 'words/mjsynth_sample/mjsynth_sample/133_Maxes_47246.jpg',\n",
              " 'words/mjsynth_sample/mjsynth_sample/132_Agglutinate_1557.jpg',\n",
              " 'words/mjsynth_sample/mjsynth_sample/131_UNMEMORABLE_82881.jpg',\n",
              " 'words/mjsynth_sample/mjsynth_sample/130_ELECTIONEERS_24943.jpg',\n",
              " 'words/mjsynth_sample/mjsynth_sample/129_darin_19237.jpg',\n",
              " 'words/mjsynth_sample/mjsynth_sample/128_SYRINGING_77067.jpg',\n",
              " 'words/mjsynth_sample/mjsynth_sample/126_SANDAL_67650.jpg',\n",
              " 'words/mjsynth_sample/mjsynth_sample/125_sidecar_70748.jpg',\n",
              " 'words/mjsynth_sample/mjsynth_sample/124_pathetic_55896.jpg',\n",
              " 'words/mjsynth_sample/mjsynth_sample/123_solemnifies_72584.jpg',\n",
              " 'words/mjsynth_sample/mjsynth_sample/122_SMELTER_71975.jpg',\n",
              " 'words/mjsynth_sample/mjsynth_sample/114_INHALATOR_39518.jpg',\n",
              " 'words/mjsynth_sample/mjsynth_sample/113_Tishri_79312.jpg',\n",
              " 'words/mjsynth_sample/mjsynth_sample/112_Mexican_48128.jpg',\n",
              " 'words/mjsynth_sample/mjsynth_sample/111_USTINOV_83747.jpg',\n",
              " 'words/mjsynth_sample/mjsynth_sample/110_Evert_26894.jpg',\n",
              " 'words/mjsynth_sample/mjsynth_sample/109_QUAYSIDES_61768.jpg',\n",
              " 'words/mjsynth_sample/mjsynth_sample/108_LATTERLY_43535.jpg',\n",
              " 'words/mjsynth_sample/mjsynth_sample/107_FACHES_27824.jpg',\n",
              " 'words/mjsynth_sample/mjsynth_sample/106_Shorting_70447.jpg',\n",
              " 'words/mjsynth_sample/mjsynth_sample/105_TINCTURED_79189.jpg',\n",
              " 'words/mjsynth_sample/mjsynth_sample/104_CANDIDE_11137.jpg',\n",
              " 'words/mjsynth_sample/mjsynth_sample/103_temporizes_78092.jpg',\n",
              " 'words/mjsynth_sample/mjsynth_sample/101_charming_12805.jpg',\n",
              " 'words/mjsynth_sample/mjsynth_sample/102_Motleys_49995.jpg',\n",
              " 'words/mjsynth_sample/mjsynth_sample/100_anastasia_2690.jpg',\n",
              " 'words/mjsynth_sample/mjsynth_sample/99_Unaffiliated_81704.jpg',\n",
              " 'words/mjsynth_sample/mjsynth_sample/98_Envelopes_26119.jpg',\n",
              " 'words/mjsynth_sample/mjsynth_sample/97_GAINER_31512.jpg',\n",
              " 'words/mjsynth_sample/mjsynth_sample/96_YUPPIFIED_87915.jpg',\n",
              " 'words/mjsynth_sample/mjsynth_sample/95_ROVE_66842.jpg',\n",
              " 'words/mjsynth_sample/mjsynth_sample/94_Solutions_72661.jpg',\n",
              " 'words/mjsynth_sample/mjsynth_sample/93_wayfarers_85740.jpg',\n",
              " 'words/mjsynth_sample/mjsynth_sample/92_ACHES_738.jpg',\n",
              " 'words/mjsynth_sample/mjsynth_sample/91_ENKIDU_25850.jpg',\n",
              " 'words/mjsynth_sample/mjsynth_sample/90_lovers_45408.jpg',\n",
              " 'words/mjsynth_sample/mjsynth_sample/89_Polygons_58684.jpg',\n",
              " 'words/mjsynth_sample/mjsynth_sample/88_preclusion_59482.jpg',\n",
              " 'words/mjsynth_sample/mjsynth_sample/87_flightier_29554.jpg',\n",
              " 'words/mjsynth_sample/mjsynth_sample/86_POLARIZATION_58547.jpg',\n",
              " 'words/mjsynth_sample/mjsynth_sample/85_HEALER_35423.jpg',\n",
              " 'words/mjsynth_sample/mjsynth_sample/84_sylvie_76948.jpg',\n",
              " 'words/mjsynth_sample/mjsynth_sample/83_Mamet_46352.jpg',\n",
              " 'words/mjsynth_sample/mjsynth_sample/82_SCATTING_68212.jpg',\n",
              " 'words/mjsynth_sample/mjsynth_sample/81_Morays_49805.jpg',\n",
              " 'words/mjsynth_sample/mjsynth_sample/80_HATCHERY_35160.jpg',\n",
              " 'words/mjsynth_sample/mjsynth_sample/79_Honorifics_36723.jpg',\n",
              " 'words/mjsynth_sample/mjsynth_sample/78_restricted_65363.jpg',\n",
              " 'words/mjsynth_sample/mjsynth_sample/77_Befallen_6664.jpg',\n",
              " 'words/mjsynth_sample/mjsynth_sample/76_joly_41717.jpg',\n",
              " 'words/mjsynth_sample/mjsynth_sample/75_remarrying_64473.jpg',\n",
              " 'words/mjsynth_sample/mjsynth_sample/74_skateboarding_71231.jpg',\n",
              " 'words/mjsynth_sample/mjsynth_sample/73_Fulsomely_31212.jpg',\n",
              " 'words/mjsynth_sample/mjsynth_sample/72_swathing_76692.jpg',\n",
              " 'words/mjsynth_sample/mjsynth_sample/71_Promulgation_60551.jpg',\n",
              " 'words/mjsynth_sample/mjsynth_sample/70_Bentwood_7007.jpg',\n",
              " 'words/mjsynth_sample/mjsynth_sample/69_laburnums_43028.jpg',\n",
              " 'words/mjsynth_sample/mjsynth_sample/68_Turner_81238.jpg',\n",
              " 'words/mjsynth_sample/mjsynth_sample/67_gulling_34202.jpg',\n",
              " 'words/mjsynth_sample/mjsynth_sample/66_Hydrolyzes_37547.jpg',\n",
              " 'words/mjsynth_sample/mjsynth_sample/65_Gelatiamo_32031.jpg',\n",
              " 'words/mjsynth_sample/mjsynth_sample/64_ordains_53661.jpg',\n",
              " 'words/mjsynth_sample/mjsynth_sample/63_BEADY_6389.jpg',\n",
              " 'words/mjsynth_sample/mjsynth_sample/62_Nonpoisonous_52101.jpg',\n",
              " 'words/mjsynth_sample/mjsynth_sample/61_OVERGROWN_54501.jpg',\n",
              " 'words/mjsynth_sample/mjsynth_sample/60_HYDRATES_37517.jpg',\n",
              " 'words/mjsynth_sample/mjsynth_sample/5_besmirch_7142.jpg',\n",
              " 'words/mjsynth_sample/mjsynth_sample/4_narrowest_50918.jpg',\n",
              " 'words/mjsynth_sample/mjsynth_sample/3_RHYME_65952.jpg',\n",
              " 'words/mjsynth_sample/mjsynth_sample/2_Fathered_28244.jpg',\n",
              " 'words/mjsynth_sample/mjsynth_sample/1_Emissary_25389.jpg',\n",
              " 'words/mjsynth_sample/mjsynth_sample/501_Domesticating_23180.jpg',\n",
              " 'words/mjsynth_sample/mjsynth_sample/500_Constitute_16361.jpg',\n",
              " 'words/mjsynth_sample/mjsynth_sample/499_Reclines_63185.jpg',\n",
              " 'words/mjsynth_sample/mjsynth_sample/498_conserving_16258.jpg',\n",
              " 'words/mjsynth_sample/mjsynth_sample/497_fowl_30540.jpg',\n",
              " 'words/mjsynth_sample/mjsynth_sample/496_cobbler_14545.jpg',\n",
              " 'words/mjsynth_sample/mjsynth_sample/495_earmuff_24367.jpg',\n",
              " 'words/mjsynth_sample/mjsynth_sample/494_liars_44270.jpg',\n",
              " 'words/mjsynth_sample/mjsynth_sample/493_Conformed_15973.jpg',\n",
              " 'words/mjsynth_sample/mjsynth_sample/492_Charring_12812.jpg',\n",
              " 'words/mjsynth_sample/mjsynth_sample/491_NATIONALIZE_50975.jpg',\n",
              " 'words/mjsynth_sample/mjsynth_sample/490_OVERSELLS_54666.jpg',\n",
              " 'words/mjsynth_sample/mjsynth_sample/489_sirocco_71147.jpg',\n",
              " 'words/mjsynth_sample/mjsynth_sample/488_reimbursement_64162.jpg',\n",
              " 'words/mjsynth_sample/mjsynth_sample/487_DEPLORABLE_20720.jpg',\n",
              " 'words/mjsynth_sample/mjsynth_sample/486_interred_40336.jpg',\n",
              " 'words/mjsynth_sample/mjsynth_sample/485_EDDIED_24581.jpg',\n",
              " 'words/mjsynth_sample/mjsynth_sample/484_Patrolwoman_55958.jpg',\n",
              " 'words/mjsynth_sample/mjsynth_sample/483_retrievals_65572.jpg',\n",
              " 'words/mjsynth_sample/mjsynth_sample/482_MILDEWS_48383.jpg',\n",
              " 'words/mjsynth_sample/mjsynth_sample/481_eleventh_25050.jpg',\n",
              " 'words/mjsynth_sample/mjsynth_sample/480_supervening_76305.jpg',\n",
              " 'words/mjsynth_sample/mjsynth_sample/479_lumileds_45612.jpg',\n",
              " 'words/mjsynth_sample/mjsynth_sample/478_CHERRIES_13056.jpg',\n",
              " 'words/mjsynth_sample/mjsynth_sample/477_WARBLERS_85432.jpg',\n",
              " 'words/mjsynth_sample/mjsynth_sample/476_openers_53466.jpg',\n",
              " 'words/mjsynth_sample/mjsynth_sample/475_RILE_66137.jpg',\n",
              " 'words/mjsynth_sample/mjsynth_sample/474_clansman_13908.jpg',\n",
              " 'words/mjsynth_sample/mjsynth_sample/472_Nullification_52539.jpg',\n",
              " 'words/mjsynth_sample/mjsynth_sample/473_restoring_65349.jpg',\n",
              " 'words/mjsynth_sample/mjsynth_sample/471_consultants_16419.jpg',\n",
              " 'words/mjsynth_sample/mjsynth_sample/470_cohesion_14773.jpg',\n",
              " 'words/mjsynth_sample/mjsynth_sample/469_hire_36252.jpg',\n",
              " 'words/mjsynth_sample/mjsynth_sample/467_THROMBOSIS_78854.jpg',\n",
              " 'words/mjsynth_sample/mjsynth_sample/468_weedkiller_85890.jpg',\n",
              " 'words/mjsynth_sample/mjsynth_sample/466_SHOWERS_70512.jpg',\n",
              " 'words/mjsynth_sample/mjsynth_sample/465_CONSTIPATING_16355.jpg',\n",
              " 'words/mjsynth_sample/mjsynth_sample/464_sousing_72945.jpg',\n",
              " 'words/mjsynth_sample/mjsynth_sample/463_DILDO_21662.jpg',\n",
              " 'words/mjsynth_sample/mjsynth_sample/462_READIED_62739.jpg',\n",
              " 'words/mjsynth_sample/mjsynth_sample/461_hulks_37229.jpg',\n",
              " 'words/mjsynth_sample/mjsynth_sample/460_PAWNED_56042.jpg',\n",
              " 'words/mjsynth_sample/mjsynth_sample/459_GUARANTY_34061.jpg',\n",
              " 'words/mjsynth_sample/mjsynth_sample/458_Electioneering_24942.jpg',\n",
              " 'words/mjsynth_sample/mjsynth_sample/457_honor_36709.jpg',\n",
              " 'words/mjsynth_sample/mjsynth_sample/456_Crossest_18275.jpg',\n",
              " 'words/mjsynth_sample/mjsynth_sample/455_IKEA_37921.jpg',\n",
              " 'words/mjsynth_sample/mjsynth_sample/454_majors_46189.jpg',\n",
              " 'words/mjsynth_sample/mjsynth_sample/453_Scarves_68195.jpg',\n",
              " 'words/mjsynth_sample/mjsynth_sample/405_EXCERPTS_27049.jpg',\n",
              " 'words/mjsynth_sample/mjsynth_sample/401_elocution_25128.jpg',\n",
              " 'words/mjsynth_sample/mjsynth_sample/398_debuted_19606.jpg',\n",
              " 'words/mjsynth_sample/mjsynth_sample/396_WHIFF_86227.jpg',\n",
              " 'words/mjsynth_sample/mjsynth_sample/395_QUELL_61794.jpg',\n",
              " 'words/mjsynth_sample/mjsynth_sample/394_Avengers_5051.jpg',\n",
              " 'words/mjsynth_sample/mjsynth_sample/393_GRIPPER_33779.jpg',\n",
              " 'words/mjsynth_sample/mjsynth_sample/392_Opened_53464.jpg',\n",
              " 'words/mjsynth_sample/mjsynth_sample/390_Runtier_67112.jpg',\n",
              " 'words/mjsynth_sample/mjsynth_sample/389_VENN_84262.jpg',\n",
              " 'words/mjsynth_sample/mjsynth_sample/388_Devised_21291.jpg',\n",
              " 'words/mjsynth_sample/mjsynth_sample/387_DILATED_21652.jpg',\n",
              " 'words/mjsynth_sample/mjsynth_sample/386_Shoppe_70400.jpg',\n",
              " 'words/mjsynth_sample/mjsynth_sample/385_HURRY_37427.jpg',\n",
              " 'words/mjsynth_sample/mjsynth_sample/384_TARTS_77611.jpg',\n",
              " 'words/mjsynth_sample/mjsynth_sample/383_Squalliest_73897.jpg',\n",
              " 'words/mjsynth_sample/mjsynth_sample/381_Begrudges_6725.jpg',\n",
              " 'words/mjsynth_sample/mjsynth_sample/382_SUBSTITUTED_75723.jpg',\n",
              " 'words/mjsynth_sample/mjsynth_sample/380_DOCKET_23002.jpg',\n",
              " 'words/mjsynth_sample/mjsynth_sample/379_INVEIGLING_40593.jpg',\n",
              " 'words/mjsynth_sample/mjsynth_sample/378_Sayers_68030.jpg',\n",
              " 'words/mjsynth_sample/mjsynth_sample/377_PREREQUISITE_59797.jpg',\n",
              " 'words/mjsynth_sample/mjsynth_sample/375_centralist_12393.jpg',\n",
              " 'words/mjsynth_sample/mjsynth_sample/376_gallbladders_31560.jpg',\n",
              " 'words/mjsynth_sample/mjsynth_sample/374_STIFFER_74686.jpg',\n",
              " 'words/mjsynth_sample/mjsynth_sample/373_Course_17548.jpg',\n",
              " 'words/mjsynth_sample/mjsynth_sample/372_forbidding_30123.jpg',\n",
              " 'words/mjsynth_sample/mjsynth_sample/371_Photocopiers_57311.jpg',\n",
              " 'words/mjsynth_sample/mjsynth_sample/370_Carshare_11739.jpg',\n",
              " 'words/mjsynth_sample/mjsynth_sample/369_LICIT_44348.jpg',\n",
              " 'words/mjsynth_sample/mjsynth_sample/367_CAROL_11644.jpg',\n",
              " 'words/mjsynth_sample/mjsynth_sample/321_ornamentation_53780.jpg',\n",
              " 'words/mjsynth_sample/mjsynth_sample/320_LABORATOIRES_43011.jpg',\n",
              " 'words/mjsynth_sample/mjsynth_sample/319_Manchester_46395.jpg',\n",
              " 'words/mjsynth_sample/mjsynth_sample/318_CARTOONED_11770.jpg',\n",
              " 'words/mjsynth_sample/mjsynth_sample/317_GRADUATING_33337.jpg',\n",
              " 'words/mjsynth_sample/mjsynth_sample/313_picnicking_57481.jpg',\n",
              " 'words/mjsynth_sample/mjsynth_sample/310_scooter_68457.jpg',\n",
              " 'words/mjsynth_sample/mjsynth_sample/309_killdeers_42467.jpg',\n",
              " 'words/mjsynth_sample/mjsynth_sample/307_TREMULOUSLY_80518.jpg',\n",
              " 'words/mjsynth_sample/mjsynth_sample/306_hydrocarbon_37524.jpg',\n",
              " 'words/mjsynth_sample/mjsynth_sample/305_Annunciation_3013.jpg',\n",
              " 'words/mjsynth_sample/mjsynth_sample/304_HIGHCHAIR_36104.jpg',\n",
              " 'words/mjsynth_sample/mjsynth_sample/303_IMMUTABLE_38161.jpg',\n",
              " 'words/mjsynth_sample/mjsynth_sample/301_Rover_66844.jpg',\n",
              " 'words/mjsynth_sample/mjsynth_sample/293_Valiums_83938.jpg',\n",
              " 'words/mjsynth_sample/mjsynth_sample/292_redgrave_63534.jpg',\n",
              " 'words/mjsynth_sample/mjsynth_sample/291_inextricably_39260.jpg',\n",
              " 'words/mjsynth_sample/mjsynth_sample/290_SAVANTS_67971.jpg',\n",
              " 'words/mjsynth_sample/mjsynth_sample/289_briquette_9613.jpg',\n",
              " 'words/mjsynth_sample/mjsynth_sample/288_fragile_30589.jpg',\n",
              " 'words/mjsynth_sample/mjsynth_sample/287_Delves_20379.jpg',\n",
              " 'words/mjsynth_sample/mjsynth_sample/286_Scandinavian_68114.jpg',\n",
              " 'words/mjsynth_sample/mjsynth_sample/285_minnelli_48658.jpg',\n",
              " 'words/mjsynth_sample/mjsynth_sample/284_ukrainian_81597.jpg',\n",
              " 'words/mjsynth_sample/mjsynth_sample/283_compotes_15530.jpg',\n",
              " 'words/mjsynth_sample/mjsynth_sample/247_snaps_72141.jpg',\n",
              " 'words/mjsynth_sample/mjsynth_sample/246_Antiheroes_3192.jpg',\n",
              " 'words/mjsynth_sample/mjsynth_sample/245_Diversity_22890.jpg',\n",
              " 'words/mjsynth_sample/mjsynth_sample/244_Overconfident_54381.jpg',\n",
              " 'words/mjsynth_sample/mjsynth_sample/243_Congressperson_16075.jpg',\n",
              " 'words/mjsynth_sample/mjsynth_sample/242_Blubbery_8258.jpg',\n",
              " 'words/mjsynth_sample/mjsynth_sample/241_DEVIATIONS_21271.jpg',\n",
              " 'words/mjsynth_sample/mjsynth_sample/240_TURKEY_81216.jpg',\n",
              " 'words/mjsynth_sample/mjsynth_sample/239_Carlos_11607.jpg',\n",
              " 'words/mjsynth_sample/mjsynth_sample/238_Activist_879.jpg',\n",
              " 'words/mjsynth_sample/mjsynth_sample/237_discerned_22018.jpg',\n",
              " 'words/mjsynth_sample/mjsynth_sample/236_Tilde_79094.jpg',\n",
              " 'words/mjsynth_sample/mjsynth_sample/235_stuart_75339.jpg',\n",
              " 'words/mjsynth_sample/mjsynth_sample/234_Southwestern_72976.jpg',\n",
              " 'words/mjsynth_sample/mjsynth_sample/233_Kroger_42930.jpg',\n",
              " 'words/mjsynth_sample/mjsynth_sample/232_homily_36626.jpg',\n",
              " 'words/mjsynth_sample/mjsynth_sample/231_UNDERPANTS_82178.jpg',\n",
              " 'words/mjsynth_sample/mjsynth_sample/230_Encasement_25547.jpg',\n",
              " 'words/mjsynth_sample/mjsynth_sample/229_Borderlands_8851.jpg',\n",
              " 'words/mjsynth_sample/mjsynth_sample/228_Reenactment_63702.jpg',\n",
              " 'words/mjsynth_sample/mjsynth_sample/227_Cremates_17999.jpg',\n",
              " 'words/mjsynth_sample/mjsynth_sample/226_shortsightedly_70457.jpg',\n",
              " 'words/mjsynth_sample/mjsynth_sample/225_deceptive_19702.jpg',\n",
              " 'words/mjsynth_sample/mjsynth_sample/224_Sempstress_69368.jpg',\n",
              " 'words/mjsynth_sample/mjsynth_sample/222_FERNANDO_28572.jpg',\n",
              " 'words/mjsynth_sample/mjsynth_sample/223_essentially_26588.jpg',\n",
              " 'words/mjsynth_sample/mjsynth_sample/221_CARTILAGINOUS_11759.jpg',\n",
              " 'words/mjsynth_sample/mjsynth_sample/220_ruff_66996.jpg',\n",
              " 'words/mjsynth_sample/mjsynth_sample/219_DENIERS_20584.jpg',\n",
              " 'words/mjsynth_sample/mjsynth_sample/218_TANGLED_77439.jpg',\n",
              " 'words/mjsynth_sample/mjsynth_sample/217_dave_19358.jpg',\n",
              " 'words/mjsynth_sample/mjsynth_sample/216_Massacre_47004.jpg',\n",
              " 'words/mjsynth_sample/mjsynth_sample/215_STANDSTILLS_74243.jpg',\n",
              " 'words/mjsynth_sample/mjsynth_sample/214_SCHEDULING_68246.jpg',\n",
              " 'words/mjsynth_sample/mjsynth_sample/213_Epidurals_26202.jpg',\n",
              " 'words/mjsynth_sample/mjsynth_sample/212_Remembrances_64502.jpg',\n",
              " 'words/mjsynth_sample/mjsynth_sample/211_Advertisers_1294.jpg',\n",
              " 'words/mjsynth_sample/mjsynth_sample/210_Bramblier_9213.jpg',\n",
              " 'words/mjsynth_sample/mjsynth_sample/209_Encourage_25607.jpg',\n",
              " 'words/mjsynth_sample/mjsynth_sample/208_Currier_18741.jpg',\n",
              " 'words/mjsynth_sample/mjsynth_sample/207_Wrap_87358.jpg',\n",
              " 'words/mjsynth_sample/mjsynth_sample/206_smelly_71972.jpg',\n",
              " 'words/mjsynth_sample/mjsynth_sample/205_ramified_62305.jpg',\n",
              " 'words/mjsynth_sample/mjsynth_sample/204_POLYTHEIST_58725.jpg',\n",
              " 'words/mjsynth_sample/mjsynth_sample/203_womanize_87031.jpg',\n",
              " 'words/mjsynth_sample/mjsynth_sample/202_iterators_41035.jpg',\n",
              " 'words/mjsynth_sample/mjsynth_sample/130_CAMARADERIE_10985.jpg',\n",
              " 'words/mjsynth_sample/mjsynth_sample/113_FRUITFUL_31093.jpg',\n",
              " 'words/mjsynth_sample/mjsynth_sample/110_Sepulchral_69527.jpg',\n",
              " 'words/mjsynth_sample/mjsynth_sample/109_Wetland_86089.jpg',\n",
              " 'words/mjsynth_sample/mjsynth_sample/108_bacchic_5292.jpg',\n",
              " 'words/mjsynth_sample/mjsynth_sample/107_SYMPATHIZERS_76976.jpg',\n",
              " 'words/mjsynth_sample/mjsynth_sample/106_Silentest_70915.jpg',\n",
              " 'words/mjsynth_sample/mjsynth_sample/105_calvinists_10977.jpg',\n",
              " 'words/mjsynth_sample/mjsynth_sample/104_fridays_30890.jpg',\n",
              " 'words/mjsynth_sample/mjsynth_sample/103_seatmate_68965.jpg',\n",
              " 'words/mjsynth_sample/mjsynth_sample/102_Manipulations_46524.jpg',\n",
              " 'words/mjsynth_sample/mjsynth_sample/101_Hosing_36943.jpg',\n",
              " 'words/mjsynth_sample/mjsynth_sample/100_Decorate_19835.jpg',\n",
              " 'words/mjsynth_sample/mjsynth_sample/99_assimilating_4424.jpg',\n",
              " 'words/mjsynth_sample/mjsynth_sample/98_instanter_39902.jpg',\n",
              " 'words/mjsynth_sample/mjsynth_sample/97_greenland_33640.jpg',\n",
              " 'words/mjsynth_sample/mjsynth_sample/96_Taegu_77205.jpg',\n",
              " 'words/mjsynth_sample/mjsynth_sample/95_grandfatherly_33402.jpg',\n",
              " 'words/mjsynth_sample/mjsynth_sample/94_Quatrains_61758.jpg',\n",
              " 'words/mjsynth_sample/mjsynth_sample/87_Devalues_21240.jpg',\n",
              " 'words/mjsynth_sample/mjsynth_sample/93_disintegrated_22373.jpg',\n",
              " 'words/mjsynth_sample/mjsynth_sample/86_sluggard_71851.jpg',\n",
              " 'words/mjsynth_sample/mjsynth_sample/85_Palate_55084.jpg',\n",
              " 'words/mjsynth_sample/mjsynth_sample/84_peddler_56223.jpg',\n",
              " 'words/mjsynth_sample/mjsynth_sample/83_carouser_11670.jpg',\n",
              " 'words/mjsynth_sample/mjsynth_sample/82_Incommoded_38785.jpg',\n",
              " 'words/mjsynth_sample/mjsynth_sample/81_JUSTINE_42036.jpg',\n",
              " 'words/mjsynth_sample/mjsynth_sample/495_Nurses_52611.jpg',\n",
              " 'words/mjsynth_sample/mjsynth_sample/488_omar_53327.jpg',\n",
              " 'words/mjsynth_sample/mjsynth_sample/487_BLOGGER_8124.jpg',\n",
              " 'words/mjsynth_sample/mjsynth_sample/482_Simulacrum_71025.jpg',\n",
              " 'words/mjsynth_sample/mjsynth_sample/475_Lamebrains_43193.jpg',\n",
              " 'words/mjsynth_sample/mjsynth_sample/474_Indicted_39024.jpg',\n",
              " 'words/mjsynth_sample/mjsynth_sample/472_opinionated_53513.jpg',\n",
              " 'words/mjsynth_sample/mjsynth_sample/471_FIFTIETH_28823.jpg',\n",
              " 'words/mjsynth_sample/mjsynth_sample/469_CALLS_10935.jpg',\n",
              " 'words/mjsynth_sample/mjsynth_sample/468_Decoded_19787.jpg',\n",
              " 'words/mjsynth_sample/mjsynth_sample/467_Overlook_54557.jpg',\n",
              " 'words/mjsynth_sample/mjsynth_sample/466_folios_29956.jpg',\n",
              " 'words/mjsynth_sample/mjsynth_sample/465_Judgeship_41870.jpg',\n",
              " 'words/mjsynth_sample/mjsynth_sample/464_snapping_72135.jpg',\n",
              " 'words/mjsynth_sample/mjsynth_sample/463_legalize_43924.jpg',\n",
              " 'words/mjsynth_sample/mjsynth_sample/458_Farting_28173.jpg',\n",
              " 'words/mjsynth_sample/mjsynth_sample/457_BUTCHERY_10505.jpg',\n",
              " 'words/mjsynth_sample/mjsynth_sample/456_drolly_23853.jpg',\n",
              " 'words/mjsynth_sample/mjsynth_sample/455_REFERABLE_63770.jpg',\n",
              " 'words/mjsynth_sample/mjsynth_sample/454_implausible_38345.jpg',\n",
              " 'words/mjsynth_sample/mjsynth_sample/453_Returns_65629.jpg',\n",
              " 'words/mjsynth_sample/mjsynth_sample/452_cosmologists_17280.jpg',\n",
              " 'words/mjsynth_sample/mjsynth_sample/451_fliest_29552.jpg',\n",
              " 'words/mjsynth_sample/mjsynth_sample/445_voluntary_85036.jpg',\n",
              " 'words/mjsynth_sample/mjsynth_sample/409_racegoer_62032.jpg',\n",
              " 'words/mjsynth_sample/mjsynth_sample/408_heavy_35538.jpg',\n",
              " 'words/mjsynth_sample/mjsynth_sample/407_thundershower_78940.jpg',\n",
              " 'words/mjsynth_sample/mjsynth_sample/406_PUTZES_61523.jpg',\n",
              " 'words/mjsynth_sample/mjsynth_sample/405_pathless_55900.jpg',\n",
              " 'words/mjsynth_sample/mjsynth_sample/404_Faced_27813.jpg',\n",
              " 'words/mjsynth_sample/mjsynth_sample/403_CAPTIONS_11407.jpg',\n",
              " 'words/mjsynth_sample/mjsynth_sample/402_adroitly_1196.jpg',\n",
              " 'words/mjsynth_sample/mjsynth_sample/401_Pockmark_58447.jpg',\n",
              " 'words/mjsynth_sample/mjsynth_sample/400_TYMPANISTS_81480.jpg',\n",
              " 'words/mjsynth_sample/mjsynth_sample/399_PROROGUED_60697.jpg',\n",
              " 'words/mjsynth_sample/mjsynth_sample/396_jill_41536.jpg',\n",
              " 'words/mjsynth_sample/mjsynth_sample/398_heretical_35885.jpg',\n",
              " 'words/mjsynth_sample/mjsynth_sample/397_denounced_20619.jpg',\n",
              " 'words/mjsynth_sample/mjsynth_sample/395_Newark_51447.jpg',\n",
              " 'words/mjsynth_sample/mjsynth_sample/394_FILING_28879.jpg',\n",
              " 'words/mjsynth_sample/mjsynth_sample/393_BECKER_6511.jpg',\n",
              " 'words/mjsynth_sample/mjsynth_sample/392_rumination_67054.jpg',\n",
              " 'words/mjsynth_sample/mjsynth_sample/391_CONJOINERS_16103.jpg',\n",
              " 'words/mjsynth_sample/mjsynth_sample/389_Danish_19197.jpg',\n",
              " 'words/mjsynth_sample/mjsynth_sample/388_Disappear_21933.jpg',\n",
              " 'words/mjsynth_sample/mjsynth_sample/387_FAVORED_28322.jpg',\n",
              " 'words/mjsynth_sample/mjsynth_sample/386_PACKAGE_54936.jpg',\n",
              " 'words/mjsynth_sample/mjsynth_sample/385_overstep_54718.jpg',\n",
              " 'words/mjsynth_sample/mjsynth_sample/384_DEMOGRAPHY_20480.jpg',\n",
              " 'words/mjsynth_sample/mjsynth_sample/383_anecdotes_2782.jpg',\n",
              " 'words/mjsynth_sample/mjsynth_sample/382_unapproved_81733.jpg',\n",
              " 'words/mjsynth_sample/mjsynth_sample/381_ANGLICANS_2850.jpg',\n",
              " 'words/mjsynth_sample/mjsynth_sample/380_Ruggedest_67013.jpg',\n",
              " 'words/mjsynth_sample/mjsynth_sample/379_sweatshops_76731.jpg',\n",
              " 'words/mjsynth_sample/mjsynth_sample/378_uppity_83556.jpg',\n",
              " 'words/mjsynth_sample/mjsynth_sample/377_STRATIFY_75099.jpg',\n",
              " 'words/mjsynth_sample/mjsynth_sample/376_RAVERS_62637.jpg',\n",
              " 'words/mjsynth_sample/mjsynth_sample/375_STRAGGLING_75014.jpg',\n",
              " 'words/mjsynth_sample/mjsynth_sample/374_michel_48168.jpg',\n",
              " 'words/mjsynth_sample/mjsynth_sample/373_archbishoprics_3797.jpg',\n",
              " 'words/mjsynth_sample/mjsynth_sample/372_septum_69522.jpg',\n",
              " 'words/mjsynth_sample/mjsynth_sample/371_knitwear_42753.jpg',\n",
              " 'words/mjsynth_sample/mjsynth_sample/370_apprehension_3602.jpg',\n",
              " 'words/mjsynth_sample/mjsynth_sample/369_Sizing_71214.jpg',\n",
              " 'words/mjsynth_sample/mjsynth_sample/368_evaporation_26843.jpg',\n",
              " 'words/mjsynth_sample/mjsynth_sample/367_MEATIEST_47441.jpg',\n",
              " 'words/mjsynth_sample/mjsynth_sample/366_jason_41269.jpg',\n",
              " 'words/mjsynth_sample/mjsynth_sample/365_CORNROWED_17083.jpg',\n",
              " 'words/mjsynth_sample/mjsynth_sample/364_PRONUNCIATION_60574.jpg',\n",
              " 'words/mjsynth_sample/mjsynth_sample/363_Hangers_34852.jpg',\n",
              " 'words/mjsynth_sample/mjsynth_sample/362_ADMIRES_1115.jpg',\n",
              " 'words/mjsynth_sample/mjsynth_sample/361_NAIL_50785.jpg',\n",
              " 'words/mjsynth_sample/mjsynth_sample/360_unanimity_81717.jpg',\n",
              " 'words/mjsynth_sample/mjsynth_sample/359_Nary_50925.jpg',\n",
              " 'words/mjsynth_sample/mjsynth_sample/358_ROTUNDA_66756.jpg',\n",
              " 'words/mjsynth_sample/mjsynth_sample/357_SOUFFLES_72873.jpg',\n",
              " 'words/mjsynth_sample/mjsynth_sample/356_mooted_49757.jpg',\n",
              " 'words/mjsynth_sample/mjsynth_sample/355_Blisters_8066.jpg',\n",
              " 'words/mjsynth_sample/mjsynth_sample/352_PHRASEBOOKS_57364.jpg',\n",
              " 'words/mjsynth_sample/mjsynth_sample/351_Jagged_41147.jpg',\n",
              " 'words/mjsynth_sample/mjsynth_sample/350_betrothing_7246.jpg',\n",
              " 'words/mjsynth_sample/mjsynth_sample/349_Jaime_41172.jpg',\n",
              " 'words/mjsynth_sample/mjsynth_sample/348_Minicabs_48612.jpg',\n",
              " 'words/mjsynth_sample/mjsynth_sample/347_Overbought_54335.jpg',\n",
              " 'words/mjsynth_sample/mjsynth_sample/346_Mountings_50075.jpg',\n",
              " 'words/mjsynth_sample/mjsynth_sample/345_SILAS_70906.jpg',\n",
              " 'words/mjsynth_sample/mjsynth_sample/344_RUCKSACKS_66967.jpg',\n",
              " 'words/mjsynth_sample/mjsynth_sample/343_PUS_61444.jpg',\n",
              " 'words/mjsynth_sample/mjsynth_sample/170_JINGOIST_41560.jpg',\n",
              " 'words/mjsynth_sample/mjsynth_sample/173_ENUNCIATED_26109.jpg',\n",
              " 'words/mjsynth_sample/mjsynth_sample/169_Snorts_72306.jpg',\n",
              " 'words/mjsynth_sample/mjsynth_sample/161_Model_49258.jpg',\n",
              " 'words/mjsynth_sample/mjsynth_sample/160_Quickening_61849.jpg',\n",
              " 'words/mjsynth_sample/mjsynth_sample/157_saxifrages_68020.jpg',\n",
              " 'words/mjsynth_sample/mjsynth_sample/156_Verdict_84334.jpg',\n",
              " 'words/mjsynth_sample/mjsynth_sample/153_akita_1824.jpg',\n",
              " 'words/mjsynth_sample/mjsynth_sample/152_Complaining_15448.jpg',\n",
              " 'words/mjsynth_sample/mjsynth_sample/150_clipboard_14219.jpg',\n",
              " 'words/mjsynth_sample/mjsynth_sample/149_Daniel_19194.jpg',\n",
              " 'words/mjsynth_sample/mjsynth_sample/147_cambium_10992.jpg',\n",
              " 'words/mjsynth_sample/mjsynth_sample/146_nourished_52423.jpg',\n",
              " 'words/mjsynth_sample/mjsynth_sample/144_routine_66832.jpg',\n",
              " 'words/mjsynth_sample/mjsynth_sample/138_pervs_56961.jpg',\n",
              " 'words/mjsynth_sample/mjsynth_sample/137_barters_6101.jpg',\n",
              " 'words/mjsynth_sample/mjsynth_sample/135_Strophe_75297.jpg',\n",
              " 'words/mjsynth_sample/mjsynth_sample/136_Excls_27089.jpg',\n",
              " 'words/mjsynth_sample/mjsynth_sample/134_Prussia_60951.jpg',\n",
              " 'words/mjsynth_sample/mjsynth_sample/132_Considerably_16262.jpg',\n",
              " 'words/mjsynth_sample/mjsynth_sample/130_revenue_65695.jpg',\n",
              " 'words/mjsynth_sample/mjsynth_sample/129_Viciously_84547.jpg',\n",
              " 'words/mjsynth_sample/mjsynth_sample/128_apology_3420.jpg',\n",
              " 'words/mjsynth_sample/mjsynth_sample/127_WHINGING_86263.jpg',\n",
              " 'words/mjsynth_sample/mjsynth_sample/125_spammers_73057.jpg',\n",
              " 'words/mjsynth_sample/mjsynth_sample/124_Zeppelins_88005.jpg',\n",
              " 'words/mjsynth_sample/mjsynth_sample/123_capitalistic_11334.jpg',\n",
              " 'words/mjsynth_sample/mjsynth_sample/121_carbonated_11466.jpg',\n",
              " 'words/mjsynth_sample/mjsynth_sample/120_JUNKETS_41989.jpg',\n",
              " 'words/mjsynth_sample/mjsynth_sample/118_khrushchev_42390.jpg',\n",
              " 'words/mjsynth_sample/mjsynth_sample/119_fabled_27793.jpg',\n",
              " 'words/mjsynth_sample/mjsynth_sample/117_Redwood_63631.jpg',\n",
              " 'words/mjsynth_sample/mjsynth_sample/116_adriatic_1192.jpg',\n",
              " 'words/mjsynth_sample/mjsynth_sample/115_Snappishness_72138.jpg',\n",
              " 'words/mjsynth_sample/mjsynth_sample/114_LYCHGATE_45765.jpg',\n",
              " 'words/mjsynth_sample/mjsynth_sample/113_Beaching_6376.jpg',\n",
              " 'words/mjsynth_sample/mjsynth_sample/112_LYNX_45800.jpg',\n",
              " 'words/mjsynth_sample/mjsynth_sample/111_Wurlitzer_87492.jpg',\n",
              " 'words/mjsynth_sample/mjsynth_sample/110_BARRES_6066.jpg',\n",
              " 'words/mjsynth_sample/mjsynth_sample/109_TRIVIA_80775.jpg',\n",
              " 'words/mjsynth_sample/mjsynth_sample/108_Mongoose_49531.jpg',\n",
              " 'words/mjsynth_sample/mjsynth_sample/107_itemize_41022.jpg',\n",
              " 'words/mjsynth_sample/mjsynth_sample/106_BRIERS_9549.jpg',\n",
              " 'words/mjsynth_sample/mjsynth_sample/105_Relive_64419.jpg',\n",
              " 'words/mjsynth_sample/mjsynth_sample/104_Deadpanning_19462.jpg',\n",
              " 'words/mjsynth_sample/mjsynth_sample/103_tranquilest_80137.jpg',\n",
              " 'words/mjsynth_sample/mjsynth_sample/102_Unnoticed_82918.jpg',\n",
              " 'words/mjsynth_sample/mjsynth_sample/101_iniquitous_39564.jpg',\n",
              " 'words/mjsynth_sample/mjsynth_sample/100_Wingspreads_86776.jpg',\n",
              " 'words/mjsynth_sample/mjsynth_sample/99_intriguers_40493.jpg',\n",
              " 'words/mjsynth_sample/mjsynth_sample/98_Peke_56332.jpg',\n",
              " 'words/mjsynth_sample/mjsynth_sample/97_sullenest_75999.jpg',\n",
              " 'words/mjsynth_sample/mjsynth_sample/96_FD_28353.jpg',\n",
              " 'words/mjsynth_sample/mjsynth_sample/95_jitney_41577.jpg',\n",
              " 'words/mjsynth_sample/mjsynth_sample/94_DISEMBOWEL_22222.jpg',\n",
              " 'words/mjsynth_sample/mjsynth_sample/93_Threepence_78802.jpg',\n",
              " 'words/mjsynth_sample/mjsynth_sample/92_Debaters_19542.jpg',\n",
              " 'words/mjsynth_sample/mjsynth_sample/91_Gesticulated_32309.jpg',\n",
              " 'words/mjsynth_sample/mjsynth_sample/90_muzak_50658.jpg',\n",
              " 'words/mjsynth_sample/mjsynth_sample/89_Parenthesizes_55547.jpg',\n",
              " 'words/mjsynth_sample/mjsynth_sample/88_STEAMFITTING_74460.jpg',\n",
              " 'words/mjsynth_sample/mjsynth_sample/87_EUCHRED_26728.jpg',\n",
              " 'words/mjsynth_sample/mjsynth_sample/86_MERCHANT_47840.jpg',\n",
              " 'words/mjsynth_sample/mjsynth_sample/85_DECLINERS_19781.jpg',\n",
              " 'words/mjsynth_sample/mjsynth_sample/84_PAINED_55023.jpg',\n",
              " 'words/mjsynth_sample/mjsynth_sample/83_OCARINA_52957.jpg',\n",
              " 'words/mjsynth_sample/mjsynth_sample/82_Provocations_60901.jpg',\n",
              " 'words/mjsynth_sample/mjsynth_sample/81_Diviner_22917.jpg',\n",
              " 'words/mjsynth_sample/mjsynth_sample/449_closefisted_14299.jpg',\n",
              " 'words/mjsynth_sample/mjsynth_sample/439_GRISLIER_33784.jpg',\n",
              " 'words/mjsynth_sample/mjsynth_sample/436_Effed_24714.jpg',\n",
              " 'words/mjsynth_sample/mjsynth_sample/435_Calypsos_10979.jpg',\n",
              " 'words/mjsynth_sample/mjsynth_sample/433_NIBBLES_51547.jpg',\n",
              " 'words/mjsynth_sample/mjsynth_sample/432_nameplate_50816.jpg',\n",
              " 'words/mjsynth_sample/mjsynth_sample/424_sacco_67254.jpg',\n",
              " 'words/mjsynth_sample/mjsynth_sample/423_similarities_70978.jpg',\n",
              " 'words/mjsynth_sample/mjsynth_sample/422_Firebombs_29048.jpg',\n",
              " 'words/mjsynth_sample/mjsynth_sample/421_acmes_781.jpg',\n",
              " 'words/mjsynth_sample/mjsynth_sample/420_CONVINCING_16786.jpg',\n",
              " 'words/mjsynth_sample/mjsynth_sample/419_NEOCOLONIALIST_51279.jpg',\n",
              " 'words/mjsynth_sample/mjsynth_sample/418_levi_44213.jpg',\n",
              " 'words/mjsynth_sample/mjsynth_sample/417_PENTATHLONS_56484.jpg',\n",
              " 'words/mjsynth_sample/mjsynth_sample/416_Deice_20192.jpg',\n",
              " 'words/mjsynth_sample/mjsynth_sample/415_playroom_58165.jpg',\n",
              " 'words/mjsynth_sample/mjsynth_sample/414_OBJECTORS_52790.jpg',\n",
              " 'words/mjsynth_sample/mjsynth_sample/413_altogether_2293.jpg',\n",
              " 'words/mjsynth_sample/mjsynth_sample/412_Frippery_30947.jpg',\n",
              " 'words/mjsynth_sample/mjsynth_sample/411_Murmansk_50467.jpg',\n",
              " 'words/mjsynth_sample/mjsynth_sample/410_DRIZZLIEST_23840.jpg',\n",
              " 'words/mjsynth_sample/mjsynth_sample/409_RIOTOUSLY_66191.jpg',\n",
              " 'words/mjsynth_sample/mjsynth_sample/408_jujube_41919.jpg',\n",
              " 'words/mjsynth_sample/mjsynth_sample/407_stoppled_74932.jpg',\n",
              " 'words/mjsynth_sample/mjsynth_sample/406_Languish_43325.jpg',\n",
              " 'words/mjsynth_sample/mjsynth_sample/405_COBWEBBIER_14560.jpg',\n",
              " 'words/mjsynth_sample/mjsynth_sample/404_Physiotherapist_57407.jpg',\n",
              " 'words/mjsynth_sample/mjsynth_sample/403_witlessness_86940.jpg',\n",
              " 'words/mjsynth_sample/mjsynth_sample/402_PROJECTING_60465.jpg',\n",
              " 'words/mjsynth_sample/mjsynth_sample/401_paralysis_55442.jpg',\n",
              " 'words/mjsynth_sample/mjsynth_sample/400_Remotely_64567.jpg',\n",
              " 'words/mjsynth_sample/mjsynth_sample/399_unlikelier_82813.jpg',\n",
              " 'words/mjsynth_sample/mjsynth_sample/398_expendable_27387.jpg',\n",
              " 'words/mjsynth_sample/mjsynth_sample/397_PLOPPING_58291.jpg',\n",
              " 'words/mjsynth_sample/mjsynth_sample/395_Unification_82640.jpg',\n",
              " 'words/mjsynth_sample/mjsynth_sample/394_seeker_69142.jpg',\n",
              " 'words/mjsynth_sample/mjsynth_sample/393_JOAO_41599.jpg',\n",
              " 'words/mjsynth_sample/mjsynth_sample/392_Bouncily_8987.jpg',\n",
              " 'words/mjsynth_sample/mjsynth_sample/391_Trochaic_80788.jpg',\n",
              " 'words/mjsynth_sample/mjsynth_sample/390_breakout_9369.jpg',\n",
              " 'words/mjsynth_sample/mjsynth_sample/389_FACTORIZING_27864.jpg',\n",
              " 'words/mjsynth_sample/mjsynth_sample/388_SIGHTING_70829.jpg',\n",
              " 'words/mjsynth_sample/mjsynth_sample/383_SWALLOWTAILS_76629.jpg',\n",
              " 'words/mjsynth_sample/mjsynth_sample/382_Zionism_88065.jpg',\n",
              " 'words/mjsynth_sample/mjsynth_sample/381_Incensing_38694.jpg',\n",
              " 'words/mjsynth_sample/mjsynth_sample/380_univalves_82747.jpg',\n",
              " 'words/mjsynth_sample/mjsynth_sample/379_Backslapper_5385.jpg',\n",
              " 'words/mjsynth_sample/mjsynth_sample/378_RUNABOUT_67084.jpg',\n",
              " 'words/mjsynth_sample/mjsynth_sample/377_wetter_86094.jpg',\n",
              " 'words/mjsynth_sample/mjsynth_sample/376_Speaks_73169.jpg',\n",
              " 'words/mjsynth_sample/mjsynth_sample/375_condensates_15780.jpg',\n",
              " 'words/mjsynth_sample/mjsynth_sample/374_Nat_50952.jpg',\n",
              " 'words/mjsynth_sample/mjsynth_sample/373_MULLENS_50300.jpg',\n",
              " 'words/mjsynth_sample/mjsynth_sample/371_timbered_79119.jpg',\n",
              " 'words/mjsynth_sample/mjsynth_sample/370_Skippering_71344.jpg',\n",
              " 'words/mjsynth_sample/mjsynth_sample/372_Sultana_76008.jpg',\n",
              " 'words/mjsynth_sample/mjsynth_sample/369_ripoff_66208.jpg',\n",
              " 'words/mjsynth_sample/mjsynth_sample/334_Concourse_15739.jpg',\n",
              " 'words/mjsynth_sample/mjsynth_sample/332_failsafe_27913.jpg',\n",
              " 'words/mjsynth_sample/mjsynth_sample/331_FOKKER_29941.jpg',\n",
              " 'words/mjsynth_sample/mjsynth_sample/330_plugged_58324.jpg',\n",
              " 'words/mjsynth_sample/mjsynth_sample/329_quainter_61656.jpg',\n",
              " 'words/mjsynth_sample/mjsynth_sample/328_boyle_9104.jpg',\n",
              " 'words/mjsynth_sample/mjsynth_sample/327_limelight_44534.jpg',\n",
              " 'words/mjsynth_sample/mjsynth_sample/326_topper_79694.jpg',\n",
              " 'words/mjsynth_sample/mjsynth_sample/325_ti_78976.jpg',\n",
              " 'words/mjsynth_sample/mjsynth_sample/324_UNSHEATHED_83208.jpg',\n",
              " 'words/mjsynth_sample/mjsynth_sample/323_Newsman_51495.jpg',\n",
              " 'words/mjsynth_sample/mjsynth_sample/322_halley_34626.jpg',\n",
              " 'words/mjsynth_sample/mjsynth_sample/321_latex_43500.jpg',\n",
              " 'words/mjsynth_sample/mjsynth_sample/320_Unclothed_81917.jpg',\n",
              " 'words/mjsynth_sample/mjsynth_sample/319_reappraising_62865.jpg',\n",
              " 'words/mjsynth_sample/mjsynth_sample/318_Jambalaya_41192.jpg',\n",
              " 'words/mjsynth_sample/mjsynth_sample/317_PRUSSIAN_60952.jpg',\n",
              " 'words/mjsynth_sample/mjsynth_sample/316_EULOGIZERS_26754.jpg',\n",
              " 'words/mjsynth_sample/mjsynth_sample/315_Snead_72172.jpg',\n",
              " 'words/mjsynth_sample/mjsynth_sample/314_RESUMED_65408.jpg',\n",
              " 'words/mjsynth_sample/mjsynth_sample/313_ACCESSIBLY_572.jpg',\n",
              " 'words/mjsynth_sample/mjsynth_sample/312_adhesion_1021.jpg',\n",
              " 'words/mjsynth_sample/mjsynth_sample/311_Desuetude_21119.jpg',\n",
              " 'words/mjsynth_sample/mjsynth_sample/310_ADVERSE_1279.jpg',\n",
              " 'words/mjsynth_sample/mjsynth_sample/309_HELLMAN_35706.jpg',\n",
              " 'words/mjsynth_sample/mjsynth_sample/308_KIDDED_42432.jpg',\n",
              " 'words/mjsynth_sample/mjsynth_sample/304_Winiest_86781.jpg',\n",
              " 'words/mjsynth_sample/mjsynth_sample/303_CUMMERBUND_18620.jpg',\n",
              " 'words/mjsynth_sample/mjsynth_sample/302_KNICKERBOCKER_42727.jpg',\n",
              " 'words/mjsynth_sample/mjsynth_sample/301_Puttying_61521.jpg',\n",
              " 'words/mjsynth_sample/mjsynth_sample/300_Blurs_8343.jpg',\n",
              " 'words/mjsynth_sample/mjsynth_sample/299_DISCOMFIT_22067.jpg',\n",
              " 'words/mjsynth_sample/mjsynth_sample/298_curvatures_18786.jpg',\n",
              " 'words/mjsynth_sample/mjsynth_sample/297_Stumped_75409.jpg',\n",
              " 'words/mjsynth_sample/mjsynth_sample/296_Venezuelans_84253.jpg',\n",
              " 'words/mjsynth_sample/mjsynth_sample/295_ALEXANDERS_1949.jpg',\n",
              " 'words/mjsynth_sample/mjsynth_sample/294_EBBITT_24475.jpg',\n",
              " 'words/mjsynth_sample/mjsynth_sample/293_NEWER_51457.jpg',\n",
              " 'words/mjsynth_sample/mjsynth_sample/292_Firecracker_29059.jpg',\n",
              " 'words/mjsynth_sample/mjsynth_sample/291_Unwariness_83415.jpg',\n",
              " 'words/mjsynth_sample/mjsynth_sample/290_Interwove_40419.jpg',\n",
              " 'words/mjsynth_sample/mjsynth_sample/289_AUDITING_4813.jpg',\n",
              " 'words/mjsynth_sample/mjsynth_sample/288_Derogate_20889.jpg',\n",
              " 'words/mjsynth_sample/mjsynth_sample/286_MONK_49550.jpg',\n",
              " 'words/mjsynth_sample/mjsynth_sample/285_Dismally_22418.jpg',\n",
              " 'words/mjsynth_sample/mjsynth_sample/284_brownouts_9821.jpg',\n",
              " 'words/mjsynth_sample/mjsynth_sample/283_steerage_74516.jpg',\n",
              " 'words/mjsynth_sample/mjsynth_sample/282_MYRIADS_50691.jpg',\n",
              " 'words/mjsynth_sample/mjsynth_sample/281_Subtext_75753.jpg',\n",
              " 'words/mjsynth_sample/mjsynth_sample/280_PIGHEADEDNESS_57560.jpg',\n",
              " 'words/mjsynth_sample/mjsynth_sample/278_UNFEASIBLE_82454.jpg',\n",
              " 'words/mjsynth_sample/mjsynth_sample/279_ROBESPIERRE_66388.jpg',\n",
              " 'words/mjsynth_sample/mjsynth_sample/232_PENMANSHIP_56432.jpg',\n",
              " 'words/mjsynth_sample/mjsynth_sample/212_Theatrical_78490.jpg',\n",
              " 'words/mjsynth_sample/mjsynth_sample/208_WINDSTORMS_86736.jpg',\n",
              " 'words/mjsynth_sample/mjsynth_sample/207_Reviving_65789.jpg',\n",
              " 'words/mjsynth_sample/mjsynth_sample/206_holden_36469.jpg',\n",
              " 'words/mjsynth_sample/mjsynth_sample/202_FICTIONALIZES_28750.jpg',\n",
              " 'words/mjsynth_sample/mjsynth_sample/199_REGIMENTED_64015.jpg',\n",
              " 'words/mjsynth_sample/mjsynth_sample/198_antiquarians_3238.jpg',\n",
              " 'words/mjsynth_sample/mjsynth_sample/197_analogizing_2653.jpg',\n",
              " 'words/mjsynth_sample/mjsynth_sample/196_Ballpoint_5662.jpg',\n",
              " 'words/mjsynth_sample/mjsynth_sample/193_EXERCISE_27194.jpg',\n",
              " 'words/mjsynth_sample/mjsynth_sample/194_SUBAREA_75506.jpg',\n",
              " 'words/mjsynth_sample/mjsynth_sample/192_COATINGS_14519.jpg',\n",
              " 'words/mjsynth_sample/mjsynth_sample/191_BLOODHOUNDS_8148.jpg',\n",
              " 'words/mjsynth_sample/mjsynth_sample/181_Recrudescence_63392.jpg',\n",
              " 'words/mjsynth_sample/mjsynth_sample/179_palatalized_55080.jpg',\n",
              " 'words/mjsynth_sample/mjsynth_sample/166_leavers_43839.jpg',\n",
              " 'words/mjsynth_sample/mjsynth_sample/165_Jocelyn_41618.jpg',\n",
              " 'words/mjsynth_sample/mjsynth_sample/163_Attains_4684.jpg',\n",
              " 'words/mjsynth_sample/mjsynth_sample/152_SILENCED_70908.jpg',\n",
              " 'words/mjsynth_sample/mjsynth_sample/150_suffixed_75898.jpg',\n",
              " 'words/mjsynth_sample/mjsynth_sample/148_OVERTHROWN_54759.jpg',\n",
              " 'words/mjsynth_sample/mjsynth_sample/147_SUDANESE_75860.jpg',\n",
              " 'words/mjsynth_sample/mjsynth_sample/146_dildo_21662.jpg',\n",
              " 'words/mjsynth_sample/mjsynth_sample/142_Withdraw_86911.jpg',\n",
              " 'words/mjsynth_sample/mjsynth_sample/141_Garb_31722.jpg',\n",
              " 'words/mjsynth_sample/mjsynth_sample/140_Appendages_3494.jpg',\n",
              " 'words/mjsynth_sample/mjsynth_sample/138_nybbling_52678.jpg',\n",
              " 'words/mjsynth_sample/mjsynth_sample/137_INCOMER_38778.jpg',\n",
              " 'words/mjsynth_sample/mjsynth_sample/136_OVERBOOK_54329.jpg',\n",
              " 'words/mjsynth_sample/mjsynth_sample/135_shopped_70401.jpg',\n",
              " 'words/mjsynth_sample/mjsynth_sample/134_MOSQUITO_49929.jpg',\n",
              " 'words/mjsynth_sample/mjsynth_sample/133_constipates_16354.jpg',\n",
              " 'words/mjsynth_sample/mjsynth_sample/132_Hooked_36758.jpg',\n",
              " 'words/mjsynth_sample/mjsynth_sample/131_VATICAN_84109.jpg',\n",
              " 'words/mjsynth_sample/mjsynth_sample/130_Gradate_33315.jpg',\n",
              " 'words/mjsynth_sample/mjsynth_sample/129_FOXHOLE_30551.jpg',\n",
              " 'words/mjsynth_sample/mjsynth_sample/128_ROUNDISH_66805.jpg',\n",
              " 'words/mjsynth_sample/mjsynth_sample/127_indited_39078.jpg',\n",
              " 'words/mjsynth_sample/mjsynth_sample/126_Sectioned_69051.jpg',\n",
              " 'words/mjsynth_sample/mjsynth_sample/125_ENNOBLES_25888.jpg',\n",
              " 'words/mjsynth_sample/mjsynth_sample/124_cartographer_11763.jpg',\n",
              " 'words/mjsynth_sample/mjsynth_sample/123_REMUNERATIONS_64591.jpg',\n",
              " 'words/mjsynth_sample/mjsynth_sample/122_Prearrange_59419.jpg',\n",
              " 'words/mjsynth_sample/mjsynth_sample/121_RETRACING_65536.jpg',\n",
              " 'words/mjsynth_sample/mjsynth_sample/120_Balkan_5611.jpg',\n",
              " 'words/mjsynth_sample/mjsynth_sample/119_Earnestine_24374.jpg',\n",
              " 'words/mjsynth_sample/mjsynth_sample/118_COMPLICIT_15490.jpg',\n",
              " 'words/mjsynth_sample/mjsynth_sample/117_notion_52404.jpg',\n",
              " 'words/mjsynth_sample/mjsynth_sample/115_MUSIAL_50522.jpg',\n",
              " 'words/mjsynth_sample/mjsynth_sample/116_remind_64507.jpg',\n",
              " 'words/mjsynth_sample/mjsynth_sample/94_Homeyness_36617.jpg',\n",
              " 'words/mjsynth_sample/mjsynth_sample/92_treading_80446.jpg',\n",
              " 'words/mjsynth_sample/mjsynth_sample/91_Superstates_76289.jpg',\n",
              " 'words/mjsynth_sample/mjsynth_sample/89_filer_28864.jpg',\n",
              " 'words/mjsynth_sample/mjsynth_sample/88_curia_18697.jpg',\n",
              " 'words/mjsynth_sample/mjsynth_sample/87_Rudder_66971.jpg',\n",
              " 'words/mjsynth_sample/mjsynth_sample/86_Blarney_7907.jpg',\n",
              " 'words/mjsynth_sample/mjsynth_sample/85_COMFORT_15130.jpg',\n",
              " 'words/mjsynth_sample/mjsynth_sample/84_SCALPS_68089.jpg',\n",
              " 'words/mjsynth_sample/mjsynth_sample/79_PSYCHEDELIA_60991.jpg',\n",
              " 'words/mjsynth_sample/mjsynth_sample/78_Deigns_20207.jpg',\n",
              " 'words/mjsynth_sample/mjsynth_sample/76_Berg_7042.jpg',\n",
              " 'words/mjsynth_sample/mjsynth_sample/73_FERNANDEZ_28571.jpg',\n",
              " 'words/mjsynth_sample/mjsynth_sample/72_EXPEDITES_27374.jpg',\n",
              " 'words/mjsynth_sample/mjsynth_sample/71_spites_73503.jpg',\n",
              " 'words/mjsynth_sample/mjsynth_sample/70_MACINTOSH_45887.jpg',\n",
              " 'words/mjsynth_sample/mjsynth_sample/69_MOLDY_49400.jpg',\n",
              " 'words/mjsynth_sample/mjsynth_sample/68_1996_46.jpg',\n",
              " 'words/mjsynth_sample/mjsynth_sample/67_Ultrasounds_81634.jpg',\n",
              " 'words/mjsynth_sample/mjsynth_sample/66_DETACHES_21125.jpg',\n",
              " 'words/mjsynth_sample/mjsynth_sample/65_GALVANIZING_31614.jpg',\n",
              " 'words/mjsynth_sample/mjsynth_sample/64_Stegosaurus_74525.jpg',\n",
              " 'words/mjsynth_sample/mjsynth_sample/63_Potbellies_59170.jpg',\n",
              " 'words/mjsynth_sample/mjsynth_sample/62_Trap_80363.jpg',\n",
              " 'words/mjsynth_sample/mjsynth_sample/61_seismographers_69214.jpg',\n",
              " 'words/mjsynth_sample/mjsynth_sample/60_Revolutionist_65806.jpg',\n",
              " 'words/mjsynth_sample/mjsynth_sample/59_Burdock_10287.jpg',\n",
              " 'words/mjsynth_sample/mjsynth_sample/58_REINVENTED_64239.jpg',\n",
              " 'words/mjsynth_sample/mjsynth_sample/57_Moneymaker_49514.jpg',\n",
              " 'words/mjsynth_sample/mjsynth_sample/56_tn_79374.jpg',\n",
              " 'words/mjsynth_sample/mjsynth_sample/54_gauntest_31926.jpg',\n",
              " 'words/mjsynth_sample/mjsynth_sample/53_fitful_29190.jpg',\n",
              " 'words/mjsynth_sample/mjsynth_sample/52_gradual_33330.jpg',\n",
              " 'words/mjsynth_sample/mjsynth_sample/51_CLOSURES_14317.jpg',\n",
              " 'words/mjsynth_sample/mjsynth_sample/55_SCORNFULLY_68492.jpg',\n",
              " 'words/mjsynth_sample/mjsynth_sample/50_account_647.jpg',\n",
              " 'words/mjsynth_sample/mjsynth_sample/49_Animadverting_2897.jpg',\n",
              " 'words/mjsynth_sample/mjsynth_sample/23_Toy_79965.jpg',\n",
              " 'words/mjsynth_sample/mjsynth_sample/20_illimitable_37954.jpg',\n",
              " 'words/mjsynth_sample/mjsynth_sample/16_Emory_25407.jpg',\n",
              " 'words/mjsynth_sample/mjsynth_sample/14_adorns_1182.jpg',\n",
              " 'words/mjsynth_sample/mjsynth_sample/11_DROLL_23847.jpg',\n",
              " 'words/mjsynth_sample/mjsynth_sample/10_Corvette_17242.jpg',\n",
              " 'words/mjsynth_sample/mjsynth_sample/8_wolfish_87017.jpg',\n",
              " 'words/mjsynth_sample/mjsynth_sample/5_Naphthalene_50859.jpg',\n",
              " 'words/mjsynth_sample/mjsynth_sample/4_Pats_55978.jpg',\n",
              " 'words/mjsynth_sample/mjsynth_sample/2_Iterator_41034.jpg',\n",
              " 'words/mjsynth_sample/mjsynth_sample/3_VIEWS_84619.jpg',\n",
              " 'words/mjsynth_sample/mjsynth_sample/1_inoffensively_39692.jpg',\n",
              " 'words/mjsynth_sample/mjsynth_sample/500_Prepubescence_59781.jpg',\n",
              " 'words/mjsynth_sample/mjsynth_sample/495_annam_2943.jpg',\n",
              " 'words/mjsynth_sample/mjsynth_sample/494_Studioplex_75376.jpg',\n",
              " 'words/mjsynth_sample/mjsynth_sample/492_Trivializing_80783.jpg',\n",
              " 'words/mjsynth_sample/mjsynth_sample/490_STOICISM_74847.jpg',\n",
              " 'words/mjsynth_sample/mjsynth_sample/488_pearl_56142.jpg',\n",
              " 'words/mjsynth_sample/mjsynth_sample/486_workshy_87249.jpg',\n",
              " 'words/mjsynth_sample/mjsynth_sample/477_paez_54988.jpg',\n",
              " 'words/mjsynth_sample/mjsynth_sample/483_plotted_58297.jpg',\n",
              " 'words/mjsynth_sample/mjsynth_sample/476_Annealing_2949.jpg',\n",
              " 'words/mjsynth_sample/mjsynth_sample/475_Pairings_55056.jpg',\n",
              " 'words/mjsynth_sample/mjsynth_sample/474_becloud_6520.jpg',\n",
              " 'words/mjsynth_sample/mjsynth_sample/473_oxblood_54848.jpg',\n",
              " 'words/mjsynth_sample/mjsynth_sample/472_Gmbh_32886.jpg',\n",
              " 'words/mjsynth_sample/mjsynth_sample/471_incompletely_38804.jpg',\n",
              " 'words/mjsynth_sample/mjsynth_sample/470_trampler_80118.jpg',\n",
              " 'words/mjsynth_sample/mjsynth_sample/469_Kestrels_42319.jpg',\n",
              " 'words/mjsynth_sample/mjsynth_sample/468_Lovers_45408.jpg',\n",
              " 'words/mjsynth_sample/mjsynth_sample/467_mischievous_48826.jpg',\n",
              " 'words/mjsynth_sample/mjsynth_sample/466_Newsweeklies_51513.jpg',\n",
              " 'words/mjsynth_sample/mjsynth_sample/465_TYPE_81485.jpg',\n",
              " 'words/mjsynth_sample/mjsynth_sample/464_Cowman_17659.jpg',\n",
              " 'words/mjsynth_sample/mjsynth_sample/463_LIONIZING_44691.jpg',\n",
              " 'words/mjsynth_sample/mjsynth_sample/462_Wilkes_86606.jpg',\n",
              " 'words/mjsynth_sample/mjsynth_sample/461_expropriating_27538.jpg',\n",
              " 'words/mjsynth_sample/mjsynth_sample/460_asleep_4274.jpg',\n",
              " 'words/mjsynth_sample/mjsynth_sample/459_DRIBBLE_23775.jpg',\n",
              " 'words/mjsynth_sample/mjsynth_sample/479_YT_87877.jpg',\n",
              " 'words/mjsynth_sample/mjsynth_sample/478_lanny_43343.jpg',\n",
              " 'words/mjsynth_sample/mjsynth_sample/480_MISTYPE_49134.jpg',\n",
              " 'words/mjsynth_sample/mjsynth_sample/477_GUATEMALAN_34083.jpg',\n",
              " 'words/mjsynth_sample/mjsynth_sample/109_Phobos_57254.jpg',\n",
              " 'words/mjsynth_sample/mjsynth_sample/108_Superfluousness_76212.jpg',\n",
              " 'words/mjsynth_sample/mjsynth_sample/107_Ardor_3861.jpg',\n",
              " 'words/mjsynth_sample/mjsynth_sample/106_HITCHER_36300.jpg',\n",
              " 'words/mjsynth_sample/mjsynth_sample/461_DRUGGED_23922.jpg',\n",
              " 'words/mjsynth_sample/mjsynth_sample/462_furlough_31324.jpg',\n",
              " 'words/mjsynth_sample/mjsynth_sample/459_REQUIRED_65017.jpg',\n",
              " 'words/mjsynth_sample/mjsynth_sample/460_versatile_84392.jpg',\n",
              " 'words/mjsynth_sample/mjsynth_sample/126_Posher_59025.jpg',\n",
              " 'words/mjsynth_sample/mjsynth_sample/125_Educated_24657.jpg',\n",
              " 'words/mjsynth_sample/mjsynth_sample/124_crucify_18353.jpg',\n",
              " 'words/mjsynth_sample/mjsynth_sample/484_DISARMED_21955.jpg',\n",
              " 'words/mjsynth_sample/mjsynth_sample/481_DISPATCHING_22500.jpg',\n",
              " 'words/mjsynth_sample/mjsynth_sample/483_metabolize_47989.jpg',\n",
              " 'words/mjsynth_sample/mjsynth_sample/482_Backlashes_5359.jpg',\n",
              " ...]"
            ]
          },
          "metadata": {},
          "execution_count": 13
        }
      ],
      "source": [
        "train_final_paths"
      ]
    },
    {
      "cell_type": "code",
      "execution_count": 14,
      "metadata": {
        "colab": {
          "base_uri": "https://localhost:8080/"
        },
        "id": "KR6oJYw3wRTR",
        "outputId": "adda261c-5653-4614-e89b-08499da1755e"
      },
      "outputs": [
        {
          "output_type": "execute_result",
          "data": {
            "text/plain": [
              "(45000, 54)"
            ]
          },
          "metadata": {},
          "execution_count": 14
        }
      ],
      "source": [
        "len(train_final_paths), len(val_final_paths)\n"
      ]
    },
    {
      "cell_type": "code",
      "execution_count": 15,
      "metadata": {
        "id": "lNrUkBotyS2Z"
      },
      "outputs": [],
      "source": [
        "max_label_len = max([len(str(text)) for text in final_texts])"
      ]
    },
    {
      "cell_type": "code",
      "execution_count": 16,
      "metadata": {
        "id": "2P_RRQHCwTv0"
      },
      "outputs": [],
      "source": [
        "class My_Generator(Sequence):\n",
        "    \n",
        "    def __init__(self, image_filenames, labels, batch_size):\n",
        "        self.image_filenames, self.labels = image_filenames, labels\n",
        "        self.batch_size = batch_size\n",
        "\n",
        "    def __len__(self):\n",
        "        return int(np.ceil(len(self.image_filenames) / float(self.batch_size)))\n",
        "\n",
        "    def __getitem__(self, idx):\n",
        "        \n",
        "        batch_paths = self.image_filenames[idx * self.batch_size:(idx + 1) * self.batch_size]\n",
        "        batch_texts = self.labels[idx * self.batch_size:(idx + 1) * self.batch_size]\n",
        "        \n",
        "        images = []\n",
        "        training_txt = []\n",
        "        train_label_length = []\n",
        "        train_input_length = []\n",
        "\n",
        "        for im_path, text in zip(batch_paths, batch_texts):\n",
        "            \n",
        "            try:\n",
        "                text = str(text).strip()\n",
        "                img = cv2.cvtColor(cv2.imread(im_path), cv2.COLOR_BGR2GRAY)   \n",
        "\n",
        "                ### actually returns h, w\n",
        "                h, w = img.shape\n",
        "\n",
        "                ### if height less than 32\n",
        "                if h < 32:\n",
        "                    add_zeros = np.ones((32-h, w)) * 255\n",
        "                    img = np.concatenate((img, add_zeros))\n",
        "                    h = 32\n",
        "\n",
        "                ## if width less than 128\n",
        "                if w < 128:\n",
        "                    add_zeros = np.ones((h, 128-w)) * 255\n",
        "                    img = np.concatenate((img, add_zeros), axis=1)\n",
        "                    w = 128\n",
        "\n",
        "                ### if width is greater than 128 or height greater than 32\n",
        "                if w > 128 or h > 32:\n",
        "                    img = cv2.resize(img, (128, 32))\n",
        "\n",
        "                img = np.expand_dims(img , axis = 2)\n",
        "\n",
        "                # Normalize each image\n",
        "                img = img / 255.\n",
        "\n",
        "                images.append(img)\n",
        "                training_txt.append(encode_to_labels(text))\n",
        "                train_label_length.append(len(text))\n",
        "                train_input_length.append(31)\n",
        "            except:\n",
        "                \n",
        "                pass\n",
        "\n",
        "        return [np.array(images), \n",
        "               pad_sequences(training_txt, maxlen=max_label_len, padding='post', value=len(char_list)), \n",
        "               np.array(train_input_length), \n",
        "               np.array(train_label_length)], np.zeros(len(images))"
      ]
    },
    {
      "cell_type": "code",
      "execution_count": 17,
      "metadata": {
        "colab": {
          "base_uri": "https://localhost:8080/"
        },
        "id": "lXyRyf59wqe8",
        "outputId": "f4ba778f-88c2-4502-97d7-f2e1fc095b8f"
      },
      "outputs": [
        {
          "output_type": "execute_result",
          "data": {
            "text/plain": [
              "(['words/mjsynth_sample/mjsynth_sample/36_Espoused_26563.jpg'], ['Espoused'])"
            ]
          },
          "metadata": {},
          "execution_count": 17
        }
      ],
      "source": [
        "train_final_paths[:1], train_final_texts[:1]\n"
      ]
    },
    {
      "cell_type": "code",
      "execution_count": 18,
      "metadata": {
        "colab": {
          "base_uri": "https://localhost:8080/"
        },
        "id": "bTsxG3Ruwq3n",
        "outputId": "b449b475-7092-4b7f-e10f-e423e1f16bbe"
      },
      "outputs": [
        {
          "output_type": "stream",
          "name": "stdout",
          "text": [
            "Wed May  4 22:40:32 2022       \n",
            "+-----------------------------------------------------------------------------+\n",
            "| NVIDIA-SMI 460.32.03    Driver Version: 460.32.03    CUDA Version: 11.2     |\n",
            "|-------------------------------+----------------------+----------------------+\n",
            "| GPU  Name        Persistence-M| Bus-Id        Disp.A | Volatile Uncorr. ECC |\n",
            "| Fan  Temp  Perf  Pwr:Usage/Cap|         Memory-Usage | GPU-Util  Compute M. |\n",
            "|                               |                      |               MIG M. |\n",
            "|===============================+======================+======================|\n",
            "|   0  Tesla P100-PCIE...  Off  | 00000000:00:04.0 Off |                    0 |\n",
            "| N/A   41C    P0    28W / 250W |      0MiB / 16280MiB |      0%      Default |\n",
            "|                               |                      |                  N/A |\n",
            "+-------------------------------+----------------------+----------------------+\n",
            "                                                                               \n",
            "+-----------------------------------------------------------------------------+\n",
            "| Processes:                                                                  |\n",
            "|  GPU   GI   CI        PID   Type   Process name                  GPU Memory |\n",
            "|        ID   ID                                                   Usage      |\n",
            "|=============================================================================|\n",
            "|  No running processes found                                                 |\n",
            "+-----------------------------------------------------------------------------+\n"
          ]
        }
      ],
      "source": [
        "!nvidia-smi"
      ]
    },
    {
      "cell_type": "code",
      "execution_count": 19,
      "metadata": {
        "id": "HpMycQgnxYiZ"
      },
      "outputs": [],
      "source": [
        "batch_size = 100\n",
        "train_generator = My_Generator(train_final_paths, train_final_texts, batch_size)\n",
        "val_generator = My_Generator(val_final_paths, val_final_texts, batch_size)"
      ]
    },
    {
      "cell_type": "code",
      "execution_count": 20,
      "metadata": {
        "id": "YNMKXOY21VvJ"
      },
      "outputs": [],
      "source": [
        "# input with shape of height=32 and width=128 \n",
        "inputs = Input(shape=(32, 128, 1), name=\"image\")\n",
        "\n",
        "\n",
        "conv_1 = Conv2D(32, (3,3), activation = \"selu\", padding='same')(inputs)\n",
        "pool_1 = MaxPool2D(pool_size=(2, 2))(conv_1)\n",
        "\n",
        "conv_2 = Conv2D(64, (3,3), activation = \"selu\", padding='same')(pool_1)\n",
        "pool_2 = MaxPool2D(pool_size=(2, 2))(conv_2)\n",
        "\n",
        "conv_3 = Conv2D(128, (3,3), activation = \"selu\", padding='same')(pool_2)\n",
        "conv_4 = Conv2D(128, (3,3), activation = \"selu\", padding='same')(conv_3)\n",
        "\n",
        "pool_4 = MaxPool2D(pool_size=(2, 1))(conv_4)\n",
        "\n",
        "conv_5 = Conv2D(256, (3,3), activation = \"selu\", padding='same')(pool_4)\n",
        "\n",
        "# Batch normalization layer\n",
        "batch_norm_5 = BatchNormalization()(conv_5)\n",
        "\n",
        "conv_6 = Conv2D(256, (3,3), activation = \"selu\", padding='same')(batch_norm_5)\n",
        "batch_norm_6 = BatchNormalization()(conv_6)\n",
        "pool_6 = MaxPool2D(pool_size=(2, 1))(batch_norm_6)\n",
        "\n",
        "conv_7 = Conv2D(64, (2,2), activation = \"selu\")(pool_6)\n",
        "\n",
        "squeezed = Lambda(lambda x: K.squeeze(x, 1))(conv_7)\n",
        "\n",
        "# bidirectional LSTM layers with units=128\n",
        "blstm_1 = Bidirectional(CuDNNGRU(128, return_sequences=True))(squeezed)\n",
        "blstm_2 = Bidirectional(CuDNNGRU(128, return_sequences=True))(blstm_1)\n",
        "\n",
        "softmax_output = Dense(len(char_list) + 1, activation = 'softmax', name=\"dense\")(blstm_2)\n",
        "\n",
        "outputs = Dense(len(char_list) + 1, activation = 'softmax')(blstm_2)\n",
        "\n",
        "act_model = Model(inputs, outputs)\n"
      ]
    },
    {
      "cell_type": "code",
      "execution_count": 21,
      "metadata": {
        "colab": {
          "base_uri": "https://localhost:8080/"
        },
        "id": "h8r01xu7yCsP",
        "outputId": "436ae960-1cd6-4bf7-ad49-fca57c3ff10b"
      },
      "outputs": [
        {
          "output_type": "stream",
          "name": "stdout",
          "text": [
            "Model: \"model\"\n",
            "_________________________________________________________________\n",
            " Layer (type)                Output Shape              Param #   \n",
            "=================================================================\n",
            " image (InputLayer)          [(None, 32, 128, 1)]      0         \n",
            "                                                                 \n",
            " conv2d (Conv2D)             (None, 32, 128, 32)       320       \n",
            "                                                                 \n",
            " max_pooling2d (MaxPooling2D  (None, 16, 64, 32)       0         \n",
            " )                                                               \n",
            "                                                                 \n",
            " conv2d_1 (Conv2D)           (None, 16, 64, 64)        18496     \n",
            "                                                                 \n",
            " max_pooling2d_1 (MaxPooling  (None, 8, 32, 64)        0         \n",
            " 2D)                                                             \n",
            "                                                                 \n",
            " conv2d_2 (Conv2D)           (None, 8, 32, 128)        73856     \n",
            "                                                                 \n",
            " conv2d_3 (Conv2D)           (None, 8, 32, 128)        147584    \n",
            "                                                                 \n",
            " max_pooling2d_2 (MaxPooling  (None, 4, 32, 128)       0         \n",
            " 2D)                                                             \n",
            "                                                                 \n",
            " conv2d_4 (Conv2D)           (None, 4, 32, 256)        295168    \n",
            "                                                                 \n",
            " batch_normalization (BatchN  (None, 4, 32, 256)       1024      \n",
            " ormalization)                                                   \n",
            "                                                                 \n",
            " conv2d_5 (Conv2D)           (None, 4, 32, 256)        590080    \n",
            "                                                                 \n",
            " batch_normalization_1 (Batc  (None, 4, 32, 256)       1024      \n",
            " hNormalization)                                                 \n",
            "                                                                 \n",
            " max_pooling2d_3 (MaxPooling  (None, 2, 32, 256)       0         \n",
            " 2D)                                                             \n",
            "                                                                 \n",
            " conv2d_6 (Conv2D)           (None, 1, 31, 64)         65600     \n",
            "                                                                 \n",
            " lambda (Lambda)             (None, 31, 64)            0         \n",
            "                                                                 \n",
            " bidirectional (Bidirectiona  (None, 31, 256)          148992    \n",
            " l)                                                              \n",
            "                                                                 \n",
            " bidirectional_1 (Bidirectio  (None, 31, 256)          296448    \n",
            " nal)                                                            \n",
            "                                                                 \n",
            " dense (Dense)               (None, 31, 63)            16191     \n",
            "                                                                 \n",
            "=================================================================\n",
            "Total params: 1,654,783\n",
            "Trainable params: 1,653,759\n",
            "Non-trainable params: 1,024\n",
            "_________________________________________________________________\n"
          ]
        }
      ],
      "source": [
        "act_model.summary()"
      ]
    },
    {
      "cell_type": "code",
      "execution_count": 22,
      "metadata": {
        "id": "XELJ9YfLyv31"
      },
      "outputs": [],
      "source": [
        "act_model.load_weights('./models/C_gru_best.hdf5')"
      ]
    },
    {
      "cell_type": "code",
      "execution_count": 23,
      "metadata": {
        "id": "ikoYdhWsyF3V"
      },
      "outputs": [],
      "source": [
        "labels = Input(name='the_labels', shape=[max_label_len], dtype='float32')\n",
        "input_length = Input(name='input_length', shape=[1], dtype='int64')\n",
        "label_length = Input(name='label_length', shape=[1], dtype='int64')\n",
        "\n",
        "def ctc_lambda_func(args):\n",
        "    y_pred, labels, input_length, label_length = args \n",
        "    return K.ctc_batch_cost(labels, y_pred, input_length, label_length)\n",
        " \n",
        "loss_out = Lambda(ctc_lambda_func, \n",
        "                  output_shape=(1,), \n",
        "                  name='ctc')([outputs, labels, input_length, label_length])\n",
        "\n",
        "#model to be used at training time\n",
        "model = Model(inputs=[inputs, labels, input_length, label_length], outputs=loss_out)"
      ]
    },
    {
      "cell_type": "code",
      "execution_count": 24,
      "metadata": {
        "id": "Mv9rmeYUyqgZ"
      },
      "outputs": [],
      "source": [
        "def pre_process_image(path):\n",
        "    \n",
        "    img = cv2.cvtColor(cv2.imread(path), cv2.COLOR_BGR2GRAY)\n",
        "    ### actually returns h, w\n",
        "    h, w = img.shape\n",
        "\n",
        "    ### if height less than 32\n",
        "    if h < 32:\n",
        "        add_zeros = np.ones((32-h, w)) * 255\n",
        "        img = np.concatenate((img, add_zeros))\n",
        "        h = 32\n",
        "\n",
        "    ## if width less than 128\n",
        "    if w < 128:\n",
        "        add_zeros = np.ones((h, 128-w)) * 255\n",
        "        img = np.concatenate((img, add_zeros), axis=1)\n",
        "        w = 128\n",
        "\n",
        "    ### if width is greater than 128 or height greater than 32\n",
        "    if w > 128 or h > 32:\n",
        "        img = cv2.resize(img, (128, 32))\n",
        "\n",
        "    \n",
        "    img = np.expand_dims(img , axis = 2)\n",
        "\n",
        "    # Normalize each image\n",
        "    img = img / 255.\n",
        "    \n",
        "    return img"
      ]
    },
    {
      "cell_type": "code",
      "execution_count": 25,
      "metadata": {
        "id": "9jWqVSmOyzRl"
      },
      "outputs": [],
      "source": [
        "def predict_output(img):\n",
        "    # predict outputs on validation images\n",
        "    prediction = act_model.predict(np.array([img]))\n",
        "    ## shape (batch_size, num_timesteps, vocab_size)\n",
        "\n",
        "    # use CTC decoder\n",
        "    out = K.get_value(K.ctc_decode(prediction, \n",
        "                                   input_length=np.ones(prediction.shape[0]) * prediction.shape[1],\n",
        "                                   greedy=True)[0][0])\n",
        "\n",
        "    ## get the final text\n",
        "    \n",
        "    gg=''\n",
        "    for x in out:\n",
        "\n",
        "        print(\"predicted text = \", end = '')\n",
        "\n",
        "        for p in x:\n",
        "            \n",
        "            if int(p) != -1 and gg=='':\n",
        "                print(char_list[int(p)], end = '')\n",
        "                gg=char_list[int(p)]\n",
        "            elif int(p) != -1 :\n",
        "               print(char_list[int(p)], end = '')\n",
        "               gg=gg+char_list[int(p)]\n",
        "\n",
        "        \n",
        "        \n",
        "        print('\\n')\n",
        "\n",
        "    #print(gg,\"ggasdasd\")  \n",
        "    return gg"
      ]
    },
    {
      "cell_type": "code",
      "execution_count": 26,
      "metadata": {
        "id": "IgnYpRPay2I5"
      },
      "outputs": [],
      "source": [
        "from IPython.display import display\n",
        "from random import randrange\n",
        "\n",
        "for i in range(1):\n",
        "    if i ==1 :\n",
        "      #index = randrange(len(val_final_paths))\n",
        "      im = Image.open('./Reco_image/210_Flavor_29453.jpg')\n",
        "      display(im)\n",
        "\n",
        "      print(\"\\n\")\n",
        "\n",
        "      test_img = pre_process_image('./Reco_image/210_Flavor_29453.jpg')\n",
        "      predict_output(test_img)\n",
        "    "
      ]
    },
    {
      "cell_type": "code",
      "execution_count": 27,
      "metadata": {
        "colab": {
          "base_uri": "https://localhost:8080/",
          "height": 135
        },
        "id": "l_SSk4bW-Kxx",
        "outputId": "e6cf030c-6200-455c-a6c9-b8a5c50a195b"
      },
      "outputs": [
        {
          "output_type": "display_data",
          "data": {
            "text/plain": [
              "<PIL.JpegImagePlugin.JpegImageFile image mode=RGB size=81x31 at 0x7F66847CCC90>"
            ],
            "image/png": "[encoded data removed]"
          },
          "metadata": {}
        },
        {
          "output_type": "stream",
          "name": "stdout",
          "text": [
            "\n",
            "\n",
            "predicted text = Flavot\n",
            "\n"
          ]
        },
        {
          "output_type": "execute_result",
          "data": {
            "text/plain": [
              "'Flavot'"
            ],
            "application/vnd.google.colaboratory.intrinsic+json": {
              "type": "string"
            }
          },
          "metadata": {},
          "execution_count": 27
        }
      ],
      "source": [
        "\n",
        "im = Image.open('./Reco_image/210_Flavor_29453.jpg')\n",
        "display(im)\n",
        "\n",
        "print(\"\\n\")\n",
        "\n",
        "test_img = pre_process_image('./Reco_image/210_Flavor_29453.jpg')\n",
        "predict_output(test_img)"
      ]
    },
    {
      "cell_type": "code",
      "execution_count": 27,
      "metadata": {
        "id": "rE6PtoLL-KXG"
      },
      "outputs": [],
      "source": [
        ""
      ]
    },
    {
      "cell_type": "code",
      "execution_count": 28,
      "metadata": {
        "colab": {
          "base_uri": "https://localhost:8080/",
          "height": 737
        },
        "id": "rCl3hxYpMjN9",
        "outputId": "51bc0da7-251e-4a20-c647-bc4d867d0ba8"
      },
      "outputs": [
        {
          "output_type": "display_data",
          "data": {
            "text/plain": [
              "<PIL.JpegImagePlugin.JpegImageFile image mode=RGB size=131x31 at 0x7F6684526C10>"
            ],
            "image/png": "[encoded data removed]"
          },
          "metadata": {}
        },
        {
          "output_type": "stream",
          "name": "stdout",
          "text": [
            "\n",
            "\n",
            "predicted text = EXTRACT\n",
            "\n"
          ]
        },
        {
          "output_type": "display_data",
          "data": {
            "text/plain": [
              "<PIL.JpegImagePlugin.JpegImageFile image mode=RGB size=81x31 at 0x7F6684532F50>"
            ],
            "image/png": "[encoded data removed]"
          },
          "metadata": {}
        },
        {
          "output_type": "stream",
          "name": "stdout",
          "text": [
            "\n",
            "\n",
            "predicted text = Flavot\n",
            "\n"
          ]
        },
        {
          "output_type": "display_data",
          "data": {
            "text/plain": [
              "<PIL.JpegImagePlugin.JpegImageFile image mode=RGB size=142x31 at 0x7F668453F2D0>"
            ],
            "image/png": "[encoded data removed]"
          },
          "metadata": {}
        },
        {
          "output_type": "stream",
          "name": "stdout",
          "text": [
            "\n",
            "\n",
            "predicted text = restricted\n",
            "\n"
          ]
        },
        {
          "output_type": "display_data",
          "data": {
            "text/plain": [
              "<PIL.JpegImagePlugin.JpegImageFile image mode=RGB size=130x31 at 0x7F668455E510>"
            ],
            "image/png": "[encoded data removed]"
          },
          "metadata": {}
        },
        {
          "output_type": "stream",
          "name": "stdout",
          "text": [
            "\n",
            "\n",
            "predicted text = Abnormal\n",
            "\n"
          ]
        },
        {
          "output_type": "display_data",
          "data": {
            "text/plain": [
              "<PIL.JpegImagePlugin.JpegImageFile image mode=RGB size=89x31 at 0x7F66844AC750>"
            ],
            "image/png": "[encoded data removed]"
          },
          "metadata": {}
        },
        {
          "output_type": "stream",
          "name": "stdout",
          "text": [
            "\n",
            "\n",
            "predicted text = HEALER\n",
            "\n"
          ]
        },
        {
          "output_type": "display_data",
          "data": {
            "text/plain": [
              "<PIL.JpegImagePlugin.JpegImageFile image mode=RGB size=119x31 at 0x7F6684509350>"
            ],
            "image/png": "[encoded data removed]"
          },
          "metadata": {}
        },
        {
          "output_type": "stream",
          "name": "stdout",
          "text": [
            "\n",
            "\n",
            "predicted text = intercom\n",
            "\n"
          ]
        },
        {
          "output_type": "display_data",
          "data": {
            "text/plain": [
              "<PIL.JpegImagePlugin.JpegImageFile image mode=RGB size=142x31 at 0x7F6684524810>"
            ],
            "image/png": "[encoded data removed]"
          },
          "metadata": {}
        },
        {
          "output_type": "stream",
          "name": "stdout",
          "text": [
            "\n",
            "\n",
            "predicted text = UNTASTED\n",
            "\n",
            "0\n"
          ]
        }
      ],
      "source": [
        "holder =0\n",
        "tt=[]\n",
        "for i in os.listdir('./Reco_image'):\n",
        "    \n",
        "    #index = randrange(len(val_final_paths))\n",
        "    im = Image.open('./Reco_image/'+str(i))\n",
        "    display(im)\n",
        "\n",
        "    print(\"\\n\")\n",
        "\n",
        "    test_img = pre_process_image('./Reco_image/'+str(i))\n",
        "    value= str(predict_output(test_img))\n",
        "    tt.append(value)\n",
        "  \n",
        "\n",
        "print(holder)\n",
        "  "
      ]
    },
    {
      "cell_type": "code",
      "execution_count": 29,
      "metadata": {
        "colab": {
          "base_uri": "https://localhost:8080/"
        },
        "id": "GdONrfrhRoWX",
        "outputId": "1affbec0-645c-4545-aaa3-381463e55015"
      },
      "outputs": [
        {
          "output_type": "stream",
          "name": "stdout",
          "text": [
            "Requirement already satisfied: autocorrect in /usr/local/lib/python3.7/dist-packages (2.6.1)\n"
          ]
        }
      ],
      "source": [
        "!pip install autocorrect"
      ]
    },
    {
      "cell_type": "code",
      "execution_count": 30,
      "metadata": {
        "colab": {
          "base_uri": "https://localhost:8080/"
        },
        "id": "MX-K726VOrji",
        "outputId": "e05260fa-9007-43f3-b293-db97c73dc52f"
      },
      "outputs": [
        {
          "output_type": "stream",
          "name": "stdout",
          "text": [
            "7\n"
          ]
        }
      ],
      "source": [
        "from autocorrect import Speller\n",
        "spell = Speller(lang='en')\n",
        "o=0\n",
        "for i in range(len(tt)):\n",
        "  #print(spell(tt[i].lower()),spell(val_final_texts[i].lower()))\n",
        "  for k in range(len(val_final_texts)):\n",
        "    if spell(tt[i].lower())==spell(val_final_texts[k].lower()):\n",
        "      o+=1\n",
        "print(o)"
      ]
    },
    {
      "cell_type": "markdown",
      "metadata": {
        "id": "DnsIILXKMq8T"
      },
      "source": [
        "right now we are predicting all the words correctly but when we test it on testing data only 16 words were predcite correctly out of 50"
      ]
    },
    {
      "cell_type": "markdown",
      "metadata": {
        "id": "OApzHoZmKHlR"
      },
      "source": [
        "#LSTM"
      ]
    },
    {
      "cell_type": "code",
      "execution_count": 31,
      "metadata": {
        "id": "I5VNHj9RyCY3"
      },
      "outputs": [],
      "source": [
        "# input with shape of height=32 and width=128 \n",
        "inputs = Input(shape=(32, 128, 1))\n",
        "\n",
        "conv_1 = Conv2D(16, (3,3), activation = 'relu', padding='same')(inputs)\n",
        "pool_1 = MaxPool2D(pool_size=(2, 2), strides=2)(conv_1)\n",
        " \n",
        "conv_2 = Conv2D(32, (3,3), activation = 'relu', padding='same')(pool_1)\n",
        "pool_2 = MaxPool2D(pool_size=(2, 2), strides=2)(conv_2)\n",
        "\n",
        "conv_3 = Conv2D(64, (3,3), activation = 'relu', padding='same')(pool_2)\n",
        "conv_4 = Conv2D(64, (3,3), activation = 'relu', padding='same')(conv_3)\n",
        "pool_4 = MaxPool2D(pool_size=(2, 1))(conv_4)\n",
        " \n",
        "conv_5 = Conv2D(64, (3,3), activation = 'relu', padding='same')(pool_4)\n",
        "# Batch normalization layer\n",
        "batch_norm_5 = BatchNormalization()(conv_5)\n",
        " \n",
        "conv_6 = Conv2D(64, (3,3), activation = 'relu', padding='same')(batch_norm_5)\n",
        "batch_norm_6 = BatchNormalization()(conv_6)\n",
        "pool_6 = MaxPool2D(pool_size=(2, 1))(batch_norm_6)\n",
        " \n",
        "conv_7 = Conv2D(64, (2,2), activation = 'relu')(pool_6)\n",
        " \n",
        "squeezed = Lambda(lambda x: K.squeeze(x, 1))(conv_7)\n",
        " \n",
        "# bidirectional LSTM layers with units=128\n",
        "blstm_1 = Bidirectional(CuDNNLSTM(128, return_sequences=True))(squeezed)\n",
        "blstm_2 = Bidirectional(CuDNNLSTM(128, return_sequences=True))(blstm_1)\n",
        "\n",
        "outputs = Dense(len(char_list) + 1, activation = 'softmax')(blstm_2)\n",
        "\n",
        "# model to be used at test time\n",
        "act_model = Model(inputs, outputs)"
      ]
    },
    {
      "cell_type": "code",
      "execution_count": 32,
      "metadata": {
        "colab": {
          "base_uri": "https://localhost:8080/"
        },
        "id": "rdd37SkkHkwz",
        "outputId": "18ac874c-6961-4737-834d-a790843d63a4"
      },
      "outputs": [
        {
          "output_type": "execute_result",
          "data": {
            "text/plain": [
              "['239_EXTRACT_27643.jpg',\n",
              " '210_Flavor_29453.jpg',\n",
              " '78_restricted_65363.jpg',\n",
              " '374_Abnormal_314.jpg',\n",
              " '85_HEALER_35423.jpg',\n",
              " '391_intercom_40141.jpg',\n",
              " '58_UNTASTED_83330.jpg']"
            ]
          },
          "metadata": {},
          "execution_count": 32
        }
      ],
      "source": [
        "os.listdir('./Reco_image')"
      ]
    },
    {
      "cell_type": "code",
      "execution_count": 33,
      "metadata": {
        "id": "RJNLqgq6KLdA"
      },
      "outputs": [],
      "source": [
        "act_model.load_weights('./models/C_LSTM_best.hdf5')"
      ]
    },
    {
      "cell_type": "code",
      "execution_count": 34,
      "metadata": {
        "colab": {
          "base_uri": "https://localhost:8080/",
          "height": 737
        },
        "id": "ZStJxuQAKaIm",
        "outputId": "b45f13bc-7b75-4b64-c9be-a59501f55fa8"
      },
      "outputs": [
        {
          "output_type": "display_data",
          "data": {
            "text/plain": [
              "<PIL.JpegImagePlugin.JpegImageFile image mode=RGB size=131x31 at 0x7F66F015B150>"
            ],
            "image/png": "[encoded data removed]"
          },
          "metadata": {}
        },
        {
          "output_type": "stream",
          "name": "stdout",
          "text": [
            "\n",
            "\n",
            "predicted text = EXTRACT\n",
            "\n"
          ]
        },
        {
          "output_type": "display_data",
          "data": {
            "text/plain": [
              "<PIL.JpegImagePlugin.JpegImageFile image mode=RGB size=81x31 at 0x7F666677DF90>"
            ],
            "image/png": "[encoded data removed]"
          },
          "metadata": {}
        },
        {
          "output_type": "stream",
          "name": "stdout",
          "text": [
            "\n",
            "\n",
            "predicted text = Flavor\n",
            "\n"
          ]
        },
        {
          "output_type": "display_data",
          "data": {
            "text/plain": [
              "<PIL.JpegImagePlugin.JpegImageFile image mode=RGB size=142x31 at 0x7F6666796ED0>"
            ],
            "image/png": "[encoded data removed]"
          },
          "metadata": {}
        },
        {
          "output_type": "stream",
          "name": "stdout",
          "text": [
            "\n",
            "\n",
            "predicted text = restricted\n",
            "\n"
          ]
        },
        {
          "output_type": "display_data",
          "data": {
            "text/plain": [
              "<PIL.JpegImagePlugin.JpegImageFile image mode=RGB size=130x31 at 0x7F666AFFFA90>"
            ],
            "image/png": "[encoded data removed]"
          },
          "metadata": {}
        },
        {
          "output_type": "stream",
          "name": "stdout",
          "text": [
            "\n",
            "\n",
            "predicted text = Abnormal\n",
            "\n"
          ]
        },
        {
          "output_type": "display_data",
          "data": {
            "text/plain": [
              "<PIL.JpegImagePlugin.JpegImageFile image mode=RGB size=89x31 at 0x7F666AFFBC50>"
            ],
            "image/png": "[encoded data removed]"
          },
          "metadata": {}
        },
        {
          "output_type": "stream",
          "name": "stdout",
          "text": [
            "\n",
            "\n",
            "predicted text = HEALER\n",
            "\n"
          ]
        },
        {
          "output_type": "display_data",
          "data": {
            "text/plain": [
              "<PIL.JpegImagePlugin.JpegImageFile image mode=RGB size=119x31 at 0x7F666677E5D0>"
            ],
            "image/png": "[encoded data removed]"
          },
          "metadata": {}
        },
        {
          "output_type": "stream",
          "name": "stdout",
          "text": [
            "\n",
            "\n",
            "predicted text = intercon\n",
            "\n"
          ]
        },
        {
          "output_type": "display_data",
          "data": {
            "text/plain": [
              "<PIL.JpegImagePlugin.JpegImageFile image mode=RGB size=142x31 at 0x7F666B029B50>"
            ],
            "image/png": "[encoded data removed]"
          },
          "metadata": {}
        },
        {
          "output_type": "stream",
          "name": "stdout",
          "text": [
            "\n",
            "\n",
            "predicted text = UNTASTED\n",
            "\n",
            "0\n"
          ]
        }
      ],
      "source": [
        "holder =0\n",
        "tt=[]\n",
        "for i in os.listdir('./Reco_image'):\n",
        "    \n",
        "    #index = randrange(len(val_final_paths))\n",
        "    im = Image.open('./Reco_image/'+str(i))\n",
        "    display(im)\n",
        "\n",
        "    print(\"\\n\")\n",
        "\n",
        "    test_img = pre_process_image('./Reco_image/'+str(i))\n",
        "    value= str(predict_output(test_img))\n",
        "    tt.append(value)\n",
        "  \n",
        "\n",
        "print(holder)"
      ]
    },
    {
      "cell_type": "code",
      "execution_count": 35,
      "metadata": {
        "colab": {
          "base_uri": "https://localhost:8080/"
        },
        "id": "rkhqbrB-Lxrw",
        "outputId": "3762412b-bbea-4681-8500-cad420ce23b4"
      },
      "outputs": [
        {
          "output_type": "stream",
          "name": "stdout",
          "text": [
            "7\n"
          ]
        }
      ],
      "source": [
        "from autocorrect import Speller\n",
        "spell = Speller(lang='en')\n",
        "o=0\n",
        "for i in range(len(tt)):\n",
        "  #print(spell(tt[i].lower()),spell(val_final_texts[i].lower()))\n",
        "  for k in range(len(val_final_texts)):\n",
        "    if spell(tt[i].lower())==spell(val_final_texts[k].lower()):\n",
        "      o+=1\n",
        "print(o)"
      ]
    },
    {
      "cell_type": "markdown",
      "metadata": {
        "id": "V_Xl5G6uMZJp"
      },
      "source": [
        "same goes here .only 21 words were predcite correctly out of 50 in the testing dataset"
      ]
    }
  ],
  "metadata": {
    "accelerator": "GPU",
    "colab": {
      "background_execution": "on",
      "collapsed_sections": [],
      "machine_shape": "hm",
      "name": "demo_rec_final.ipynb",
      "provenance": []
    },
    "kernelspec": {
      "display_name": "Python 3 (ipykernel)",
      "language": "python",
      "name": "python3"
    },
    "language_info": {
      "codemirror_mode": {
        "name": "ipython",
        "version": 3
      },
      "file_extension": ".py",
      "mimetype": "text/x-python",
      "name": "python",
      "nbconvert_exporter": "python",
      "pygments_lexer": "ipython3",
      "version": "3.7.13"
    }
  },
  "nbformat": 4,
  "nbformat_minor": 0
}